{
  "cells": [
    {
      "cell_type": "markdown",
      "source": [
        "# Initialize Elasticsearch with data\n",
        "**Prerequisite: Elasticsearch must be installed**"
      ],
      "metadata": {
        "datalore": {
          "node_id": "init_es_with_data",
          "type": "MD",
          "hide_input_from_viewers": false,
          "hide_output_from_viewers": false,
          "sheet_delimiter": true
        },
        "id": "EAP20NQoV-9M"
      }
    },
    {
      "cell_type": "code",
      "source": [
        "! pip install datasets\n",
        "! pip install elasticsearch\n",
        "! pip install sentencepiece\n",
        "! pip install sentence-transformers==2.7.0\n",
        "! pip install huggingface_hub"
      ],
      "execution_count": null,
      "outputs": [
        {
          "name": "stdout",
          "text": [
            "Collecting datasets\r\n",
            "  Downloading datasets-3.1.0-py3-none-any.whl.metadata (20 kB)\r\n",
            "Requirement already satisfied: filelock in /opt/python/envs/default/lib/python3.8/site-packages (from datasets) (3.16.1)\r\n",
            "Requirement already satisfied: numpy>=1.17 in /opt/python/envs/default/lib/python3.8/site-packages (from datasets) (1.24.4)\r\n",
            "Collecting pyarrow>=15.0.0 (from datasets)\r\n",
            "  Downloading pyarrow-17.0.0-cp38-cp38-manylinux_2_28_x86_64.whl.metadata (3.3 kB)\r\n",
            "Collecting dill<0.3.9,>=0.3.0 (from datasets)\r\n",
            "  Downloading dill-0.3.8-py3-none-any.whl.metadata (10 kB)\r\n",
            "Requirement already satisfied: pandas in /opt/python/envs/default/lib/python3.8/site-packages (from datasets) (1.5.3)\r\n",
            "Requirement already satisfied: requests>=2.32.2 in /opt/python/envs/default/lib/python3.8/site-packages (from datasets) (2.32.3)\r\n",
            "Requirement already satisfied: tqdm>=4.66.3 in /opt/python/envs/default/lib/python3.8/site-packages (from datasets) (4.67.1)\r\n",
            "Collecting xxhash (from datasets)\r\n",
            "  Downloading xxhash-3.5.0-cp38-cp38-manylinux_2_17_x86_64.manylinux2014_x86_64.whl.metadata (12 kB)\r\n",
            "Collecting multiprocess<0.70.17 (from datasets)\r\n",
            "  Downloading multiprocess-0.70.16-py38-none-any.whl.metadata (7.1 kB)\r\n",
            "Collecting fsspec<=2024.9.0,>=2023.1.0 (from fsspec[http]<=2024.9.0,>=2023.1.0->datasets)\r\n",
            "  Downloading fsspec-2024.9.0-py3-none-any.whl.metadata (11 kB)\r\n",
            "Requirement already satisfied: aiohttp in /opt/python/envs/default/lib/python3.8/site-packages (from datasets) (3.10.10)\r\n",
            "Requirement already satisfied: huggingface-hub>=0.23.0 in /opt/python/envs/default/lib/python3.8/site-packages (from datasets) (0.29.1)\r\n",
            "Requirement already satisfied: packaging in /opt/python/envs/default/lib/python3.8/site-packages (from datasets) (24.2)\r\n",
            "Requirement already satisfied: pyyaml>=5.1 in /opt/python/envs/default/lib/python3.8/site-packages (from datasets) (6.0.2)\r\n",
            "Requirement already satisfied: aiohappyeyeballs>=2.3.0 in /opt/python/envs/default/lib/python3.8/site-packages (from aiohttp->datasets) (2.4.4)\r\n",
            "Requirement already satisfied: aiosignal>=1.1.2 in /opt/python/envs/default/lib/python3.8/site-packages (from aiohttp->datasets) (1.3.1)\r\n",
            "Requirement already satisfied: attrs>=17.3.0 in /opt/python/envs/default/lib/python3.8/site-packages (from aiohttp->datasets) (25.1.0)\r\n",
            "Requirement already satisfied: frozenlist>=1.1.1 in /opt/python/envs/default/lib/python3.8/site-packages (from aiohttp->datasets) (1.5.0)\r\n",
            "Requirement already satisfied: multidict<7.0,>=4.5 in /opt/python/envs/default/lib/python3.8/site-packages (from aiohttp->datasets) (6.1.0)\r\n",
            "Requirement already satisfied: yarl<2.0,>=1.12.0 in /opt/python/envs/default/lib/python3.8/site-packages (from aiohttp->datasets) (1.15.2)\r\n",
            "Requirement already satisfied: async-timeout<5.0,>=4.0 in /opt/python/envs/default/lib/python3.8/site-packages (from aiohttp->datasets) (4.0.3)\r\n",
            "Requirement already satisfied: typing-extensions>=3.7.4.3 in /opt/python/envs/default/lib/python3.8/site-packages (from huggingface-hub>=0.23.0->datasets) (4.12.2)\r\n",
            "Requirement already satisfied: charset-normalizer<4,>=2 in /opt/python/envs/default/lib/python3.8/site-packages (from requests>=2.32.2->datasets) (3.4.1)\r\n",
            "Requirement already satisfied: idna<4,>=2.5 in /opt/python/envs/default/lib/python3.8/site-packages (from requests>=2.32.2->datasets) (3.10)\r\n",
            "Requirement already satisfied: urllib3<3,>=1.21.1 in /opt/python/envs/default/lib/python3.8/site-packages (from requests>=2.32.2->datasets) (1.26.20)\r\n",
            "Requirement already satisfied: certifi>=2017.4.17 in /opt/python/envs/default/lib/python3.8/site-packages (from requests>=2.32.2->datasets) (2025.1.31)\r\n",
            "Requirement already satisfied: python-dateutil>=2.8.1 in /opt/python/envs/default/lib/python3.8/site-packages (from pandas->datasets) (2.9.0.post0)\r\n",
            "Requirement already satisfied: pytz>=2020.1 in /opt/python/envs/default/lib/python3.8/site-packages (from pandas->datasets) (2025.1)\r\n",
            "Requirement already satisfied: six>=1.5 in /opt/python/envs/default/lib/python3.8/site-packages (from python-dateutil>=2.8.1->pandas->datasets) (1.17.0)\r\n",
            "Requirement already satisfied: propcache>=0.2.0 in /opt/python/envs/default/lib/python3.8/site-packages (from yarl<2.0,>=1.12.0->aiohttp->datasets) (0.2.0)\r\n",
            "Downloading datasets-3.1.0-py3-none-any.whl (480 kB)\r\n",
            "Downloading dill-0.3.8-py3-none-any.whl (116 kB)\r\n",
            "Downloading fsspec-2024.9.0-py3-none-any.whl (179 kB)\r\n",
            "Downloading multiprocess-0.70.16-py38-none-any.whl (132 kB)\r\n",
            "Downloading pyarrow-17.0.0-cp38-cp38-manylinux_2_28_x86_64.whl (40.0 MB)\r\n",
            "\u001b[?25l   \u001b[90m━━━━━━━━━━━━━━━━━━━━━━━━━━━━━━━━━━━━━━━━\u001b[0m \u001b[32m0.0/40.0 MB\u001b[0m \u001b[31m?\u001b[0m eta \u001b[36m-:--:--\u001b[0m\r\u001b[2K   \u001b[91m━━━━━━━━━━━━━━━━━━━━━\u001b[0m\u001b[91m╸\u001b[0m\u001b[90m━━━━━━━━━━━━━━━━━━\u001b[0m \u001b[32m21.5/40.0 MB\u001b[0m \u001b[31m107.5 MB/s\u001b[0m eta \u001b[36m0:00:01\u001b[0m\r\u001b[2K   \u001b[90m━━━━━━━━━━━━━━━━━━━━━━━━━━━━━━━━━━━━━━━━\u001b[0m \u001b[32m40.0/40.0 MB\u001b[0m \u001b[31m112.4 MB/s\u001b[0m eta \u001b[36m0:00:00\u001b[0m\r\n",
            "\u001b[?25hDownloading xxhash-3.5.0-cp38-cp38-manylinux_2_17_x86_64.manylinux2014_x86_64.whl (194 kB)\r\n",
            "Installing collected packages: xxhash, pyarrow, fsspec, dill, multiprocess, datasets\r\n",
            "  Attempting uninstall: fsspec\r\n",
            "    Found existing installation: fsspec 2025.2.0\r\n",
            "    Uninstalling fsspec-2025.2.0:\r\n",
            "      Successfully uninstalled fsspec-2025.2.0\r\n",
            "Successfully installed datasets-3.1.0 dill-0.3.8 fsspec-2024.9.0 multiprocess-0.70.16 pyarrow-17.0.0 xxhash-3.5.0\r\n",
            "\r\n",
            "\u001b[1m[\u001b[0m\u001b[34;49mnotice\u001b[0m\u001b[1;39;49m]\u001b[0m\u001b[39;49m A new release of pip is available: \u001b[0m\u001b[31;49m24.3.1\u001b[0m\u001b[39;49m -> \u001b[0m\u001b[32;49m25.0.1\u001b[0m\r\n",
            "\u001b[1m[\u001b[0m\u001b[34;49mnotice\u001b[0m\u001b[1;39;49m]\u001b[0m\u001b[39;49m To update, run: \u001b[0m\u001b[32;49mpip install --upgrade pip\u001b[0m\r\n",
            "Collecting elasticsearch\r\n",
            "  Downloading elasticsearch-8.17.2-py3-none-any.whl.metadata (8.8 kB)\r\n",
            "Collecting elastic-transport<9,>=8.15.1 (from elasticsearch)\r\n",
            "  Downloading elastic_transport-8.17.0-py3-none-any.whl.metadata (3.6 kB)\r\n",
            "Requirement already satisfied: urllib3<3,>=1.26.2 in /opt/python/envs/default/lib/python3.8/site-packages (from elastic-transport<9,>=8.15.1->elasticsearch) (1.26.20)\r\n",
            "Requirement already satisfied: certifi in /opt/python/envs/default/lib/python3.8/site-packages (from elastic-transport<9,>=8.15.1->elasticsearch) (2025.1.31)\r\n",
            "Downloading elasticsearch-8.17.2-py3-none-any.whl (717 kB)\r\n",
            "\u001b[?25l   \u001b[90m━━━━━━━━━━━━━━━━━━━━━━━━━━━━━━━━━━━━━━━━\u001b[0m \u001b[32m0.0/718.0 kB\u001b[0m \u001b[31m?\u001b[0m eta \u001b[36m-:--:--\u001b[0m\r\u001b[2K   \u001b[90m━━━━━━━━━━━━━━━━━━━━━━━━━━━━━━━━━━━━━━━\u001b[0m \u001b[32m718.0/718.0 kB\u001b[0m \u001b[31m102.4 MB/s\u001b[0m eta \u001b[36m0:00:00\u001b[0m\r\n",
            "\u001b[?25hDownloading elastic_transport-8.17.0-py3-none-any.whl (64 kB)\r\n",
            "Installing collected packages: elastic-transport, elasticsearch\r\n",
            "Successfully installed elastic-transport-8.17.0 elasticsearch-8.17.2\r\n",
            "\r\n",
            "\u001b[1m[\u001b[0m\u001b[34;49mnotice\u001b[0m\u001b[1;39;49m]\u001b[0m\u001b[39;49m A new release of pip is available: \u001b[0m\u001b[31;49m24.3.1\u001b[0m\u001b[39;49m -> \u001b[0m\u001b[32;49m25.0.1\u001b[0m\r\n",
            "\u001b[1m[\u001b[0m\u001b[34;49mnotice\u001b[0m\u001b[1;39;49m]\u001b[0m\u001b[39;49m To update, run: \u001b[0m\u001b[32;49mpip install --upgrade pip\u001b[0m\r\n",
            "Collecting sentencepiece\r\n",
            "  Downloading sentencepiece-0.2.0-cp38-cp38-manylinux_2_17_x86_64.manylinux2014_x86_64.whl.metadata (7.7 kB)\r\n",
            "Downloading sentencepiece-0.2.0-cp38-cp38-manylinux_2_17_x86_64.manylinux2014_x86_64.whl (1.3 MB)\r\n",
            "\u001b[?25l   \u001b[90m━━━━━━━━━━━━━━━━━━━━━━━━━━━━━━━━━━━━━━━━\u001b[0m \u001b[32m0.0/1.3 MB\u001b[0m \u001b[31m?\u001b[0m eta \u001b[36m-:--:--\u001b[0m\r\u001b[2K   \u001b[90m━━━━━━━━━━━━━━━━━━━━━━━━━━━━━━━━━━━━━━━━\u001b[0m \u001b[32m1.3/1.3 MB\u001b[0m \u001b[31m161.4 MB/s\u001b[0m eta \u001b[36m0:00:00\u001b[0m\r\n",
            "\u001b[?25hInstalling collected packages: sentencepiece\r\n",
            "Successfully installed sentencepiece-0.2.0\r\n",
            "\r\n",
            "\u001b[1m[\u001b[0m\u001b[34;49mnotice\u001b[0m\u001b[1;39;49m]\u001b[0m\u001b[39;49m A new release of pip is available: \u001b[0m\u001b[31;49m24.3.1\u001b[0m\u001b[39;49m -> \u001b[0m\u001b[32;49m25.0.1\u001b[0m\r\n",
            "\u001b[1m[\u001b[0m\u001b[34;49mnotice\u001b[0m\u001b[1;39;49m]\u001b[0m\u001b[39;49m To update, run: \u001b[0m\u001b[32;49mpip install --upgrade pip\u001b[0m\r\n",
            "Collecting sentence-transformers==2.7.0\r\n",
            "  Downloading sentence_transformers-2.7.0-py3-none-any.whl.metadata (11 kB)\r\n",
            "Requirement already satisfied: transformers<5.0.0,>=4.34.0 in /opt/python/envs/default/lib/python3.8/site-packages (from sentence-transformers==2.7.0) (4.46.1)\r\n",
            "Requirement already satisfied: tqdm in /opt/python/envs/default/lib/python3.8/site-packages (from sentence-transformers==2.7.0) (4.67.1)\r\n",
            "Requirement already satisfied: torch>=1.11.0 in /opt/python/envs/default/lib/python3.8/site-packages (from sentence-transformers==2.7.0) (2.4.1)\r\n",
            "Requirement already satisfied: numpy in /opt/python/envs/default/lib/python3.8/site-packages (from sentence-transformers==2.7.0) (1.24.4)\r\n",
            "Requirement already satisfied: scikit-learn in /opt/python/envs/default/lib/python3.8/site-packages (from sentence-transformers==2.7.0) (1.3.2)\r\n",
            "Requirement already satisfied: scipy in /opt/python/envs/default/lib/python3.8/site-packages (from sentence-transformers==2.7.0) (1.10.1)\r\n",
            "Requirement already satisfied: huggingface-hub>=0.15.1 in /opt/python/envs/default/lib/python3.8/site-packages (from sentence-transformers==2.7.0) (0.29.1)\r\n",
            "Requirement already satisfied: Pillow in /opt/python/envs/default/lib/python3.8/site-packages (from sentence-transformers==2.7.0) (10.4.0)\r\n",
            "Requirement already satisfied: filelock in /opt/python/envs/default/lib/python3.8/site-packages (from huggingface-hub>=0.15.1->sentence-transformers==2.7.0) (3.16.1)\r\n",
            "Requirement already satisfied: fsspec>=2023.5.0 in /opt/python/envs/default/lib/python3.8/site-packages (from huggingface-hub>=0.15.1->sentence-transformers==2.7.0) (2024.9.0)\r\n",
            "Requirement already satisfied: packaging>=20.9 in /opt/python/envs/default/lib/python3.8/site-packages (from huggingface-hub>=0.15.1->sentence-transformers==2.7.0) (24.2)\r\n",
            "Requirement already satisfied: pyyaml>=5.1 in /opt/python/envs/default/lib/python3.8/site-packages (from huggingface-hub>=0.15.1->sentence-transformers==2.7.0) (6.0.2)\r\n",
            "Requirement already satisfied: requests in /opt/python/envs/default/lib/python3.8/site-packages (from huggingface-hub>=0.15.1->sentence-transformers==2.7.0) (2.32.3)\r\n",
            "Requirement already satisfied: typing-extensions>=3.7.4.3 in /opt/python/envs/default/lib/python3.8/site-packages (from huggingface-hub>=0.15.1->sentence-transformers==2.7.0) (4.12.2)\r\n",
            "Requirement already satisfied: sympy in /opt/python/envs/default/lib/python3.8/site-packages (from torch>=1.11.0->sentence-transformers==2.7.0) (1.13.3)\r\n",
            "Requirement already satisfied: networkx in /opt/python/envs/default/lib/python3.8/site-packages (from torch>=1.11.0->sentence-transformers==2.7.0) (3.1)\r\n",
            "Requirement already satisfied: jinja2 in /opt/python/envs/default/lib/python3.8/site-packages (from torch>=1.11.0->sentence-transformers==2.7.0) (3.1.5)\r\n",
            "Requirement already satisfied: nvidia-cuda-nvrtc-cu12==12.1.105 in /opt/python/envs/default/lib/python3.8/site-packages (from torch>=1.11.0->sentence-transformers==2.7.0) (12.1.105)\r\n",
            "Requirement already satisfied: nvidia-cuda-runtime-cu12==12.1.105 in /opt/python/envs/default/lib/python3.8/site-packages (from torch>=1.11.0->sentence-transformers==2.7.0) (12.1.105)\r\n",
            "Requirement already satisfied: nvidia-cuda-cupti-cu12==12.1.105 in /opt/python/envs/default/lib/python3.8/site-packages (from torch>=1.11.0->sentence-transformers==2.7.0) (12.1.105)\r\n",
            "Requirement already satisfied: nvidia-cudnn-cu12==9.1.0.70 in /opt/python/envs/default/lib/python3.8/site-packages (from torch>=1.11.0->sentence-transformers==2.7.0) (9.1.0.70)\r\n",
            "Requirement already satisfied: nvidia-cublas-cu12==12.1.3.1 in /opt/python/envs/default/lib/python3.8/site-packages (from torch>=1.11.0->sentence-transformers==2.7.0) (12.1.3.1)\r\n",
            "Requirement already satisfied: nvidia-cufft-cu12==11.0.2.54 in /opt/python/envs/default/lib/python3.8/site-packages (from torch>=1.11.0->sentence-transformers==2.7.0) (11.0.2.54)\r\n",
            "Requirement already satisfied: nvidia-curand-cu12==10.3.2.106 in /opt/python/envs/default/lib/python3.8/site-packages (from torch>=1.11.0->sentence-transformers==2.7.0) (10.3.2.106)\r\n",
            "Requirement already satisfied: nvidia-cusolver-cu12==11.4.5.107 in /opt/python/envs/default/lib/python3.8/site-packages (from torch>=1.11.0->sentence-transformers==2.7.0) (11.4.5.107)\r\n",
            "Requirement already satisfied: nvidia-cusparse-cu12==12.1.0.106 in /opt/python/envs/default/lib/python3.8/site-packages (from torch>=1.11.0->sentence-transformers==2.7.0) (12.1.0.106)\r\n",
            "Requirement already satisfied: nvidia-nccl-cu12==2.20.5 in /opt/python/envs/default/lib/python3.8/site-packages (from torch>=1.11.0->sentence-transformers==2.7.0) (2.20.5)\r\n",
            "Requirement already satisfied: nvidia-nvtx-cu12==12.1.105 in /opt/python/envs/default/lib/python3.8/site-packages (from torch>=1.11.0->sentence-transformers==2.7.0) (12.1.105)\r\n",
            "Requirement already satisfied: triton==3.0.0 in /opt/python/envs/default/lib/python3.8/site-packages (from torch>=1.11.0->sentence-transformers==2.7.0) (3.0.0)\r\n",
            "Requirement already satisfied: nvidia-nvjitlink-cu12 in /opt/python/envs/default/lib/python3.8/site-packages (from nvidia-cusolver-cu12==11.4.5.107->torch>=1.11.0->sentence-transformers==2.7.0) (12.8.61)\r\n",
            "Requirement already satisfied: regex!=2019.12.17 in /opt/python/envs/default/lib/python3.8/site-packages (from transformers<5.0.0,>=4.34.0->sentence-transformers==2.7.0) (2024.11.6)\r\n",
            "Requirement already satisfied: safetensors>=0.4.1 in /opt/python/envs/default/lib/python3.8/site-packages (from transformers<5.0.0,>=4.34.0->sentence-transformers==2.7.0) (0.5.3)\r\n",
            "Requirement already satisfied: tokenizers<0.21,>=0.20 in /opt/python/envs/default/lib/python3.8/site-packages (from transformers<5.0.0,>=4.34.0->sentence-transformers==2.7.0) (0.20.3)\r\n",
            "Requirement already satisfied: joblib>=1.1.1 in /opt/python/envs/default/lib/python3.8/site-packages (from scikit-learn->sentence-transformers==2.7.0) (1.4.2)\r\n",
            "Requirement already satisfied: threadpoolctl>=2.0.0 in /opt/python/envs/default/lib/python3.8/site-packages (from scikit-learn->sentence-transformers==2.7.0) (3.5.0)\r\n",
            "Requirement already satisfied: MarkupSafe>=2.0 in /opt/python/envs/default/lib/python3.8/site-packages (from jinja2->torch>=1.11.0->sentence-transformers==2.7.0) (2.1.5)\r\n",
            "Requirement already satisfied: charset-normalizer<4,>=2 in /opt/python/envs/default/lib/python3.8/site-packages (from requests->huggingface-hub>=0.15.1->sentence-transformers==2.7.0) (3.4.1)\r\n",
            "Requirement already satisfied: idna<4,>=2.5 in /opt/python/envs/default/lib/python3.8/site-packages (from requests->huggingface-hub>=0.15.1->sentence-transformers==2.7.0) (3.10)\r\n",
            "Requirement already satisfied: urllib3<3,>=1.21.1 in /opt/python/envs/default/lib/python3.8/site-packages (from requests->huggingface-hub>=0.15.1->sentence-transformers==2.7.0) (1.26.20)\r\n",
            "Requirement already satisfied: certifi>=2017.4.17 in /opt/python/envs/default/lib/python3.8/site-packages (from requests->huggingface-hub>=0.15.1->sentence-transformers==2.7.0) (2025.1.31)\r\n",
            "Requirement already satisfied: mpmath<1.4,>=1.1.0 in /opt/python/envs/default/lib/python3.8/site-packages (from sympy->torch>=1.11.0->sentence-transformers==2.7.0) (1.3.0)\r\n",
            "Downloading sentence_transformers-2.7.0-py3-none-any.whl (171 kB)\r\n",
            "Installing collected packages: sentence-transformers\r\n",
            "Successfully installed sentence-transformers-2.7.0\r\n",
            "\r\n",
            "\u001b[1m[\u001b[0m\u001b[34;49mnotice\u001b[0m\u001b[1;39;49m]\u001b[0m\u001b[39;49m A new release of pip is available: \u001b[0m\u001b[31;49m24.3.1\u001b[0m\u001b[39;49m -> \u001b[0m\u001b[32;49m25.0.1\u001b[0m\r\n",
            "\u001b[1m[\u001b[0m\u001b[34;49mnotice\u001b[0m\u001b[1;39;49m]\u001b[0m\u001b[39;49m To update, run: \u001b[0m\u001b[32;49mpip install --upgrade pip\u001b[0m\r\n",
            "Requirement already satisfied: huggingface_hub in /opt/python/envs/default/lib/python3.8/site-packages (0.29.1)\r\n",
            "Requirement already satisfied: filelock in /opt/python/envs/default/lib/python3.8/site-packages (from huggingface_hub) (3.16.1)\r\n",
            "Requirement already satisfied: fsspec>=2023.5.0 in /opt/python/envs/default/lib/python3.8/site-packages (from huggingface_hub) (2024.9.0)\r\n",
            "Requirement already satisfied: packaging>=20.9 in /opt/python/envs/default/lib/python3.8/site-packages (from huggingface_hub) (24.2)\r\n",
            "Requirement already satisfied: pyyaml>=5.1 in /opt/python/envs/default/lib/python3.8/site-packages (from huggingface_hub) (6.0.2)\r\n",
            "Requirement already satisfied: requests in /opt/python/envs/default/lib/python3.8/site-packages (from huggingface_hub) (2.32.3)\r\n",
            "Requirement already satisfied: tqdm>=4.42.1 in /opt/python/envs/default/lib/python3.8/site-packages (from huggingface_hub) (4.67.1)\r\n",
            "Requirement already satisfied: typing-extensions>=3.7.4.3 in /opt/python/envs/default/lib/python3.8/site-packages (from huggingface_hub) (4.12.2)\r\n",
            "Requirement already satisfied: charset-normalizer<4,>=2 in /opt/python/envs/default/lib/python3.8/site-packages (from requests->huggingface_hub) (3.4.1)\r\n",
            "Requirement already satisfied: idna<4,>=2.5 in /opt/python/envs/default/lib/python3.8/site-packages (from requests->huggingface_hub) (3.10)\r\n",
            "Requirement already satisfied: urllib3<3,>=1.21.1 in /opt/python/envs/default/lib/python3.8/site-packages (from requests->huggingface_hub) (1.26.20)\r\n",
            "Requirement already satisfied: certifi>=2017.4.17 in /opt/python/envs/default/lib/python3.8/site-packages (from requests->huggingface_hub) (2025.1.31)\r\n",
            "\r\n",
            "\u001b[1m[\u001b[0m\u001b[34;49mnotice\u001b[0m\u001b[1;39;49m]\u001b[0m\u001b[39;49m A new release of pip is available: \u001b[0m\u001b[31;49m24.3.1\u001b[0m\u001b[39;49m -> \u001b[0m\u001b[32;49m25.0.1\u001b[0m\r\n",
            "\u001b[1m[\u001b[0m\u001b[34;49mnotice\u001b[0m\u001b[1;39;49m]\u001b[0m\u001b[39;49m To update, run: \u001b[0m\u001b[32;49mpip install --upgrade pip\u001b[0m\r\n"
          ],
          "output_type": "stream"
        }
      ],
      "metadata": {
        "datalore": {
          "node_id": "COqJMF0OyXVf9ZEjEeHRj1",
          "type": "CODE",
          "hide_input_from_viewers": true,
          "hide_output_from_viewers": true
        },
        "id": "GnTqb11QV-9N",
        "outputId": "335c8395-d8ed-45df-dbb0-ef2872737a9a"
      }
    },
    {
      "cell_type": "code",
      "source": [
        "# Preparation - Creating the index, loading the model, and loading the dataset\n",
        "from datasets import load_dataset\n",
        "#from huggingface_hub import login\n",
        "#login('hf_xxxxx')\n",
        "\n",
        "# Load dataset from Leviatan's account. You can also use your own dataset if needed.\n",
        "dataset = load_dataset('LeviatanAIResearch/cross-encoder-binary-context-quesion-v3', split='test')\n",
        "\n",
        "# Filter dataset to keep only samples with label == 1\n",
        "filtered_dataset = dataset.filter(lambda example: example['label'] == 1)"
      ],
      "metadata": {
        "id": "Cui8rIPMY-ly"
      },
      "execution_count": null,
      "outputs": []
    },
    {
      "cell_type": "code",
      "source": [
        "from elasticsearch import Elasticsearch, helpers\n",
        "import time\n",
        "\n",
        "# Configure Elasticsearch connection (update URL based on your setup)\n",
        "elasticsearch_client = Elasticsearch('http://0.0.0.0:9200', connections_per_node=2)\n",
        "\n",
        "# Wait until Elasticsearch is responsive\n",
        "while True:\n",
        "    if elasticsearch_client.ping():\n",
        "        break\n",
        "    else:\n",
        "        time.sleep(2)"
      ],
      "execution_count": null,
      "outputs": [],
      "metadata": {
        "datalore": {
          "node_id": "p0CghrDr3PqGsae02Qfa8z",
          "type": "CODE",
          "hide_input_from_viewers": true,
          "hide_output_from_viewers": true
        },
        "id": "j0K4sLOHV-9O"
      }
    },
    {
      "cell_type": "code",
      "source": [
        "# Verify if the index exists; if not, create it\n",
        "EMBEDDINGS_DIMENSION = 1024\n",
        "index_name = \"my_rag_index\"\n",
        "\n",
        "mapping = {\n",
        "        \"index_name\": index_name,\n",
        "        \"mappings\": {\n",
        "            \"properties\": {\n",
        "                \"content\": {\"type\": \"text\"},\n",
        "                \"embeddings\": {\"type\": \"dense_vector\",\"dims\": EMBEDDINGS_DIMENSION},\n",
        "                \"source\": {\"type\": \"text\"}\n",
        "            }\n",
        "        }\n",
        "    }\n",
        "\n",
        "if not elasticsearch_client.indices.exists(index=index_name):\n",
        "    # If not exists create it\n",
        "    elasticsearch_client.indices.create(index=index_name, body={\"mappings\": mapping['mappings']})\n",
        "    print(f'Index \"{index_name}\" created successfully.')"
      ],
      "execution_count": null,
      "outputs": [
        {
          "name": "stdout",
          "text": [
            "Index \"my_rag_index\" created successfully.\n"
          ],
          "output_type": "stream"
        }
      ],
      "metadata": {
        "datalore": {
          "node_id": "qrdb45SoRPKjvDLO35zPb6",
          "type": "CODE",
          "hide_input_from_viewers": true,
          "hide_output_from_viewers": true
        },
        "id": "oRIVsY03V-9O",
        "outputId": "be6c8d04-5d75-4ea2-9960-8fcabd750dca"
      }
    },
    {
      "cell_type": "code",
      "source": [
        "import numpy as np\n",
        "from sentence_transformers import SentenceTransformer\n",
        "\n",
        "# Load pre-trained Sentence Transformer model\n",
        "MODEL = SentenceTransformer('intfloat/multilingual-e5-large')\n",
        "MODEL.max_seq_length = 512\n",
        "\n",
        "def get_vector_embeddings(content: str) -> np.ndarray:\n",
        "    \"\"\"\n",
        "    Get embeddings for the content.\n",
        "\n",
        "    Parameters:\n",
        "    ----------\n",
        "    content : str\n",
        "        The input text to process.\n",
        "\n",
        "    Returns:\n",
        "    -------\n",
        "    np.ndarray:\n",
        "        A ndarray of embeddings, where each element\n",
        "        corresponds to the embeddings of the content.\n",
        "        Returns None if the computation fails.\n",
        "    \"\"\"\n",
        "    embeddings_vector = MODEL.encode(content)\n",
        "    assert embeddings_vector.shape == (EMBEDDINGS_DIMENSION,)\n",
        "    return embeddings_vector"
      ],
      "execution_count": null,
      "outputs": [
        {
          "name": "stderr",
          "text": [
            "The cache for model files in Transformers v4.22.0 has been updated. Migrating your old cache. This is a one-time only operation. You can interrupt this and resume the migration later on by calling `transformers.utils.move_cache()`.\n"
          ],
          "output_type": "stream"
        },
        {
          "data": {
            "application/vnd.jupyter.widget-view+json": {
              "version_major": 2,
              "version_minor": 0,
              "model_id": "9d3569e91e6f479fa61e906018b085ca"
            }
          },
          "metadata": {
            "application/vnd.jupyter.widget-view+json": {
              "datalore": {
                "widget_id": "g6sReYpaV4Wz5RwxqsrvxQ"
              }
            }
          },
          "output_type": "display_data"
        },
        {
          "data": {
            "application/vnd.jupyter.widget-view+json": {
              "version_major": 2,
              "version_minor": 0,
              "model_id": "5b9f55922490458c91c512059415143d"
            }
          },
          "metadata": {
            "application/vnd.jupyter.widget-view+json": {
              "datalore": {
                "widget_id": "8bnam5uEOdO02FeuJ65JOg"
              }
            }
          },
          "output_type": "display_data"
        },
        {
          "data": {
            "application/vnd.jupyter.widget-view+json": {
              "version_major": 2,
              "version_minor": 0,
              "model_id": "7fbde9c0ed644c978c4bcdd9a3f5c3a3"
            }
          },
          "metadata": {
            "application/vnd.jupyter.widget-view+json": {
              "datalore": {
                "widget_id": "KhI2SU9FfPs4l8tDqdyiQu"
              }
            }
          },
          "output_type": "display_data"
        },
        {
          "data": {
            "application/vnd.jupyter.widget-view+json": {
              "version_major": 2,
              "version_minor": 0,
              "model_id": "65ed9040a06d43e68da735e214d3acf8"
            }
          },
          "metadata": {
            "application/vnd.jupyter.widget-view+json": {
              "datalore": {
                "widget_id": "UXCLXCEwObDn6vM5z8SO3w"
              }
            }
          },
          "output_type": "display_data"
        },
        {
          "data": {
            "application/vnd.jupyter.widget-view+json": {
              "version_major": 2,
              "version_minor": 0,
              "model_id": "22075dc591454d1d95a18005e9ef7747"
            }
          },
          "metadata": {
            "application/vnd.jupyter.widget-view+json": {
              "datalore": {
                "widget_id": "hckNAQFXAmp3nC6uNRM9cH"
              }
            }
          },
          "output_type": "display_data"
        },
        {
          "data": {
            "application/vnd.jupyter.widget-view+json": {
              "version_major": 2,
              "version_minor": 0,
              "model_id": "efc95199c4714dd1b24ca9ecc68a2a6c"
            }
          },
          "metadata": {
            "application/vnd.jupyter.widget-view+json": {
              "datalore": {
                "widget_id": "kC0Ylcx2x10t6bpzJ2g8my"
              }
            }
          },
          "output_type": "display_data"
        },
        {
          "data": {
            "application/vnd.jupyter.widget-view+json": {
              "version_major": 2,
              "version_minor": 0,
              "model_id": "8972021079124e6c8027ade3cb179b10"
            }
          },
          "metadata": {
            "application/vnd.jupyter.widget-view+json": {
              "datalore": {
                "widget_id": "Eh0wrzHJHgnxhorC3VrQNq"
              }
            }
          },
          "output_type": "display_data"
        },
        {
          "data": {
            "application/vnd.jupyter.widget-view+json": {
              "version_major": 2,
              "version_minor": 0,
              "model_id": "b6e89ae751c64362bb8134e89e349078"
            }
          },
          "metadata": {
            "application/vnd.jupyter.widget-view+json": {
              "datalore": {
                "widget_id": "zFNiSfFR45c3JZvgFneeSW"
              }
            }
          },
          "output_type": "display_data"
        },
        {
          "data": {
            "application/vnd.jupyter.widget-view+json": {
              "version_major": 2,
              "version_minor": 0,
              "model_id": "35a6ee4c5d3c4b9f810c3cc481bb303a"
            }
          },
          "metadata": {
            "application/vnd.jupyter.widget-view+json": {
              "datalore": {
                "widget_id": "3GhDhFduXR6lVNHowr1PFp"
              }
            }
          },
          "output_type": "display_data"
        },
        {
          "data": {
            "application/vnd.jupyter.widget-view+json": {
              "version_major": 2,
              "version_minor": 0,
              "model_id": "d60ee34a634e405f91cf274547df6d06"
            }
          },
          "metadata": {
            "application/vnd.jupyter.widget-view+json": {
              "datalore": {
                "widget_id": "f8qEa90ArICMrRBswdqzBc"
              }
            }
          },
          "output_type": "display_data"
        },
        {
          "data": {
            "application/vnd.jupyter.widget-view+json": {
              "version_major": 2,
              "version_minor": 0,
              "model_id": "eda4684ffa7d4df6834088daf24f60af"
            }
          },
          "metadata": {
            "application/vnd.jupyter.widget-view+json": {
              "datalore": {
                "widget_id": "Mptrrdcq9IGxejA7Doms3V"
              }
            }
          },
          "output_type": "display_data"
        }
      ],
      "metadata": {
        "datalore": {
          "node_id": "zHlAA3h3XOCAp1t5qF7vfG",
          "type": "CODE",
          "hide_input_from_viewers": true,
          "hide_output_from_viewers": true
        },
        "colab": {
          "referenced_widgets": [
            "9d3569e91e6f479fa61e906018b085ca",
            "5b9f55922490458c91c512059415143d",
            "7fbde9c0ed644c978c4bcdd9a3f5c3a3",
            "65ed9040a06d43e68da735e214d3acf8",
            "22075dc591454d1d95a18005e9ef7747",
            "efc95199c4714dd1b24ca9ecc68a2a6c",
            "8972021079124e6c8027ade3cb179b10",
            "b6e89ae751c64362bb8134e89e349078",
            "35a6ee4c5d3c4b9f810c3cc481bb303a",
            "d60ee34a634e405f91cf274547df6d06",
            "eda4684ffa7d4df6834088daf24f60af"
          ]
        },
        "id": "iKOOUsBLV-9P",
        "outputId": "5652aa51-755d-4219-e2e0-cd1927204383"
      }
    },
    {
      "cell_type": "code",
      "source": [
        "def get_embeddings_data(content, source):\n",
        "    \"\"\"\n",
        "    Prepare data for Elasticsearch indexing.\n",
        "\n",
        "    Parameters\n",
        "    ----------\n",
        "    content : str\n",
        "        The textual content to be indexed.\n",
        "    source : str\n",
        "        The source of the content.\n",
        "\n",
        "    Returns\n",
        "    -------\n",
        "    dict\n",
        "        A dictionary containing the index name, content, source, and generated embeddings.\n",
        "    \"\"\"\n",
        "    return {\n",
        "        '_index': index_name,\n",
        "        'content': content,\n",
        "        'source': source,\n",
        "        'embeddings': get_vector_embeddings(content)\n",
        "    }"
      ],
      "execution_count": null,
      "outputs": [],
      "metadata": {
        "datalore": {
          "node_id": "s178kjLMebQRD6BYC6QPiV",
          "type": "CODE",
          "hide_input_from_viewers": true,
          "hide_output_from_viewers": true
        },
        "id": "DLLrbcniV-9P"
      }
    },
    {
      "cell_type": "code",
      "source": [
        "# Check dataset statistics before processing\n",
        "print(len(list(set(filtered_dataset['text1']))))  # Unique contexts\n",
        "print(len(filtered_dataset['text2']))  # Number of questions"
      ],
      "execution_count": null,
      "outputs": [
        {
          "name": "stdout",
          "text": [
            "5723\n",
            "17071\n"
          ],
          "output_type": "stream"
        }
      ],
      "metadata": {
        "datalore": {
          "node_id": "FFjqzbBk4v6jghiq3Bsjpl",
          "type": "CODE",
          "hide_input_from_viewers": true,
          "hide_output_from_viewers": true
        },
        "id": "HgOR-cXqV-9P",
        "outputId": "6d82b749-0101-43a3-910b-eaeef2415280"
      }
    },
    {
      "cell_type": "code",
      "source": [
        "# Filter dataset to retain only specific sources\n",
        "filtered_dataset = filtered_dataset.filter(lambda example: example['source'] in ['piaf', 'fquad'])\n",
        "\n",
        "# Display dataset statistics after filtering\n",
        "print(len(filtered_dataset))\n",
        "print(len(list(set(filtered_dataset['text1']))))\n",
        "print(len(list(set(filtered_dataset.filter(lambda example: example['source'] in ['fquad'])['text2']))))"
      ],
      "execution_count": null,
      "outputs": [
        {
          "name": "stdout",
          "text": [
            "4339\n",
            "996\n",
            "3184\n"
          ],
          "output_type": "stream"
        },
        {
          "data": {
            "application/vnd.jupyter.widget-view+json": {
              "version_major": 2,
              "version_minor": 0,
              "model_id": "b4403cbe03b64301826724fd461fa09a"
            }
          },
          "metadata": {
            "application/vnd.jupyter.widget-view+json": {
              "datalore": {
                "widget_id": "Cd1xpozwMnLQtwvaeWDarx"
              }
            }
          },
          "output_type": "display_data"
        },
        {
          "data": {
            "application/vnd.jupyter.widget-view+json": {
              "version_major": 2,
              "version_minor": 0,
              "model_id": "38bc5e08a5844c239ba4d340d256b7ac"
            }
          },
          "metadata": {
            "application/vnd.jupyter.widget-view+json": {
              "datalore": {
                "widget_id": "MSOyprPnGUZQjhggPuCDD5"
              }
            }
          },
          "output_type": "display_data"
        }
      ],
      "metadata": {
        "datalore": {
          "node_id": "tkswVFqC789S5OQhErhQAQ",
          "type": "CODE",
          "hide_input_from_viewers": true,
          "hide_output_from_viewers": true
        },
        "colab": {
          "referenced_widgets": [
            "b4403cbe03b64301826724fd461fa09a",
            "38bc5e08a5844c239ba4d340d256b7ac"
          ]
        },
        "id": "xLFunVAvV-9P",
        "outputId": "68125b0d-028d-469e-a82b-713df1daafce"
      }
    },
    {
      "cell_type": "code",
      "source": [
        "index_data = []\n",
        "context_list = []\n",
        "\n",
        "# Iterate through the dataset and prepare data for indexing\n",
        "for index in range(len(filtered_dataset)):\n",
        "    try:\n",
        "        item = filtered_dataset[index]\n",
        "        if index % 2000 == 0:\n",
        "            print(f'--{index}, --{round(index/len(filtered_dataset)*100, 2)}%')\n",
        "\n",
        "        # Avoid duplicate contexts\n",
        "        if item['text1'] not in context_list:\n",
        "            context_list.append(item['text1'])\n",
        "            index_data.append(get_embeddings_data(item['text1'], item['source']))\n",
        "    except Exception as error:\n",
        "        print(index)\n",
        "        raise error"
      ],
      "execution_count": null,
      "outputs": [
        {
          "name": "stdout",
          "text": [
            "--0, --0.0%\n",
            "--2000, --46.09%\n",
            "--4000, --92.19%\n"
          ],
          "output_type": "stream"
        }
      ],
      "metadata": {
        "datalore": {
          "node_id": "INVYdosc3NNaDp2h5FaO2c",
          "type": "CODE",
          "hide_input_from_viewers": true,
          "hide_output_from_viewers": true
        },
        "id": "t7kxNEW2V-9P",
        "outputId": "fc37b5b9-8eed-4c58-b1d5-a88c05684a21"
      }
    },
    {
      "cell_type": "code",
      "source": [
        "# Bulk insert indexed data into Elasticsearch\n",
        "write_bulk_res = helpers.bulk(elasticsearch_client, index_data)"
      ],
      "execution_count": null,
      "outputs": [],
      "metadata": {
        "datalore": {
          "node_id": "qvpjtbszCzHcjxH2fNDFwJ",
          "type": "CODE",
          "hide_input_from_viewers": true,
          "hide_output_from_viewers": true
        },
        "id": "MZjFHxsvV-9P"
      }
    },
    {
      "cell_type": "markdown",
      "source": [
        "# Benchmark for Knowledge Retrieval in RAG-based Systems"
      ],
      "metadata": {
        "datalore": {
          "node_id": "rag system",
          "type": "MD",
          "hide_input_from_viewers": false,
          "hide_output_from_viewers": false,
          "sheet_delimiter": true
        },
        "id": "4NlfNo6dV-9Q"
      }
    },
    {
      "cell_type": "code",
      "source": [
        "! pip install cohere"
      ],
      "execution_count": null,
      "outputs": [
        {
          "name": "stdout",
          "text": [
            "Collecting cohere\r\n",
            "  Downloading cohere-5.13.2-py3-none-any.whl.metadata (3.5 kB)\r\n",
            "Collecting fastavro<2.0.0,>=1.9.4 (from cohere)\r\n",
            "  Downloading fastavro-1.9.7-cp38-cp38-manylinux_2_17_x86_64.manylinux2014_x86_64.whl.metadata (5.5 kB)\r\n",
            "Collecting httpx>=0.21.2 (from cohere)\r\n",
            "  Downloading httpx-0.28.1-py3-none-any.whl.metadata (7.1 kB)\r\n",
            "Collecting httpx-sse==0.4.0 (from cohere)\r\n",
            "  Downloading httpx_sse-0.4.0-py3-none-any.whl.metadata (9.0 kB)\r\n",
            "Collecting parameterized<0.10.0,>=0.9.0 (from cohere)\r\n",
            "  Downloading parameterized-0.9.0-py2.py3-none-any.whl.metadata (18 kB)\r\n",
            "Requirement already satisfied: pydantic>=1.9.2 in /opt/python/envs/default/lib/python3.8/site-packages (from cohere) (2.10.6)\r\n",
            "Requirement already satisfied: pydantic-core<3.0.0,>=2.18.2 in /opt/python/envs/default/lib/python3.8/site-packages (from cohere) (2.27.2)\r\n",
            "Requirement already satisfied: requests<3.0.0,>=2.0.0 in /opt/python/envs/default/lib/python3.8/site-packages (from cohere) (2.32.3)\r\n",
            "Requirement already satisfied: tokenizers<1,>=0.15 in /opt/python/envs/default/lib/python3.8/site-packages (from cohere) (0.20.3)\r\n",
            "Collecting types-requests<3.0.0,>=2.0.0 (from cohere)\r\n",
            "  Downloading types_requests-2.32.0.20241016-py3-none-any.whl.metadata (1.9 kB)\r\n",
            "Requirement already satisfied: typing_extensions>=4.0.0 in /opt/python/envs/default/lib/python3.8/site-packages (from cohere) (4.12.2)\r\n",
            "Requirement already satisfied: anyio in /opt/python/envs/default/lib/python3.8/site-packages (from httpx>=0.21.2->cohere) (3.7.1)\r\n",
            "Requirement already satisfied: certifi in /opt/python/envs/default/lib/python3.8/site-packages (from httpx>=0.21.2->cohere) (2025.1.31)\r\n",
            "Collecting httpcore==1.* (from httpx>=0.21.2->cohere)\r\n",
            "  Downloading httpcore-1.0.7-py3-none-any.whl.metadata (21 kB)\r\n",
            "Requirement already satisfied: idna in /opt/python/envs/default/lib/python3.8/site-packages (from httpx>=0.21.2->cohere) (3.10)\r\n",
            "Collecting h11<0.15,>=0.13 (from httpcore==1.*->httpx>=0.21.2->cohere)\r\n",
            "  Downloading h11-0.14.0-py3-none-any.whl.metadata (8.2 kB)\r\n",
            "Requirement already satisfied: annotated-types>=0.6.0 in /opt/python/envs/default/lib/python3.8/site-packages (from pydantic>=1.9.2->cohere) (0.7.0)\r\n",
            "Requirement already satisfied: charset-normalizer<4,>=2 in /opt/python/envs/default/lib/python3.8/site-packages (from requests<3.0.0,>=2.0.0->cohere) (3.4.1)\r\n",
            "Requirement already satisfied: urllib3<3,>=1.21.1 in /opt/python/envs/default/lib/python3.8/site-packages (from requests<3.0.0,>=2.0.0->cohere) (1.26.20)\r\n",
            "Requirement already satisfied: huggingface-hub<1.0,>=0.16.4 in /opt/python/envs/default/lib/python3.8/site-packages (from tokenizers<1,>=0.15->cohere) (0.29.1)\r\n",
            "Collecting urllib3<3,>=1.21.1 (from requests<3.0.0,>=2.0.0->cohere)\r\n",
            "  Downloading urllib3-2.2.3-py3-none-any.whl.metadata (6.5 kB)\r\n",
            "Requirement already satisfied: filelock in /opt/python/envs/default/lib/python3.8/site-packages (from huggingface-hub<1.0,>=0.16.4->tokenizers<1,>=0.15->cohere) (3.16.1)\r\n",
            "Requirement already satisfied: fsspec>=2023.5.0 in /opt/python/envs/default/lib/python3.8/site-packages (from huggingface-hub<1.0,>=0.16.4->tokenizers<1,>=0.15->cohere) (2024.9.0)\r\n",
            "Requirement already satisfied: packaging>=20.9 in /opt/python/envs/default/lib/python3.8/site-packages (from huggingface-hub<1.0,>=0.16.4->tokenizers<1,>=0.15->cohere) (24.2)\r\n",
            "Requirement already satisfied: pyyaml>=5.1 in /opt/python/envs/default/lib/python3.8/site-packages (from huggingface-hub<1.0,>=0.16.4->tokenizers<1,>=0.15->cohere) (6.0.2)\r\n",
            "Requirement already satisfied: tqdm>=4.42.1 in /opt/python/envs/default/lib/python3.8/site-packages (from huggingface-hub<1.0,>=0.16.4->tokenizers<1,>=0.15->cohere) (4.67.1)\r\n",
            "Requirement already satisfied: sniffio>=1.1 in /opt/python/envs/default/lib/python3.8/site-packages (from anyio->httpx>=0.21.2->cohere) (1.3.1)\r\n",
            "Requirement already satisfied: exceptiongroup in /opt/python/envs/default/lib/python3.8/site-packages (from anyio->httpx>=0.21.2->cohere) (1.2.2)\r\n",
            "Downloading cohere-5.13.2-py3-none-any.whl (249 kB)\r\n",
            "Downloading httpx_sse-0.4.0-py3-none-any.whl (7.8 kB)\r\n",
            "Downloading fastavro-1.9.7-cp38-cp38-manylinux_2_17_x86_64.manylinux2014_x86_64.whl (3.2 MB)\r\n",
            "\u001b[?25l   \u001b[90m━━━━━━━━━━━━━━━━━━━━━━━━━━━━━━━━━━━━━━━━\u001b[0m \u001b[32m0.0/3.2 MB\u001b[0m \u001b[31m?\u001b[0m eta \u001b[36m-:--:--\u001b[0m\r\u001b[2K   \u001b[90m━━━━━━━━━━━━━━━━━━━━━━━━━━━━━━━━━━━━━━━━\u001b[0m \u001b[32m3.2/3.2 MB\u001b[0m \u001b[31m219.7 MB/s\u001b[0m eta \u001b[36m0:00:00\u001b[0m\r\n",
            "\u001b[?25hDownloading httpx-0.28.1-py3-none-any.whl (73 kB)\r\n",
            "Downloading httpcore-1.0.7-py3-none-any.whl (78 kB)\r\n",
            "Downloading parameterized-0.9.0-py2.py3-none-any.whl (20 kB)\r\n",
            "Downloading types_requests-2.32.0.20241016-py3-none-any.whl (15 kB)\r\n",
            "Downloading urllib3-2.2.3-py3-none-any.whl (126 kB)\r\n",
            "Downloading h11-0.14.0-py3-none-any.whl (58 kB)\r\n",
            "Installing collected packages: urllib3, parameterized, httpx-sse, h11, fastavro, types-requests, httpcore, httpx, cohere\r\n",
            "  Attempting uninstall: urllib3\r\n",
            "    Found existing installation: urllib3 1.26.20\r\n",
            "    Uninstalling urllib3-1.26.20:\r\n",
            "      Successfully uninstalled urllib3-1.26.20\r\n",
            "\u001b[31mERROR: pip's dependency resolver does not currently take into account all the packages that are installed. This behaviour is the source of the following dependency conflicts.\r\n",
            "botocore 1.35.99 requires urllib3<1.27,>=1.25.4; python_version < \"3.10\", but you have urllib3 2.2.3 which is incompatible.\u001b[0m\u001b[31m\r\n",
            "\u001b[0mSuccessfully installed cohere-5.13.2 fastavro-1.9.7 h11-0.14.0 httpcore-1.0.7 httpx-0.28.1 httpx-sse-0.4.0 parameterized-0.9.0 types-requests-2.32.0.20241016 urllib3-2.2.3\r\n",
            "\r\n",
            "\u001b[1m[\u001b[0m\u001b[34;49mnotice\u001b[0m\u001b[1;39;49m]\u001b[0m\u001b[39;49m A new release of pip is available: \u001b[0m\u001b[31;49m24.3.1\u001b[0m\u001b[39;49m -> \u001b[0m\u001b[32;49m25.0.1\u001b[0m\r\n",
            "\u001b[1m[\u001b[0m\u001b[34;49mnotice\u001b[0m\u001b[1;39;49m]\u001b[0m\u001b[39;49m To update, run: \u001b[0m\u001b[32;49mpip install --upgrade pip\u001b[0m\r\n"
          ],
          "output_type": "stream"
        }
      ],
      "metadata": {
        "datalore": {
          "node_id": "aNAlbyKOleEqeyhiuzlmwW",
          "type": "CODE",
          "hide_input_from_viewers": true,
          "hide_output_from_viewers": true
        },
        "id": "QseMVZdLV-9Q",
        "outputId": "64fd6182-2b22-4404-ed20-d35b5df655b2"
      }
    },
    {
      "cell_type": "code",
      "source": [
        "# Define the Elasticsearch index name\n",
        "index_name = \"my_rag_index\"\n",
        "\n",
        "def get_candidates(sent_embeddings, source=None, nbr_candidate=30):\n",
        "    \"\"\"\n",
        "    Retrieve candidate documents from Elasticsearch based on semantic similarity.\n",
        "\n",
        "    Parameters\n",
        "    ----------\n",
        "    sent_embeddings : list\n",
        "        The embedding vector of the query sentence.\n",
        "    source : str, optional\n",
        "        The specific dataset source to filter the documents.\n",
        "    nbr_candidate : int, optional\n",
        "        The number of top candidate documents to retrieve (default: 30).\n",
        "\n",
        "    Returns\n",
        "    -------\n",
        "    list\n",
        "        A list of best-matching documents with their ID, score, and content.\n",
        "    \"\"\"\n",
        "    if source:\n",
        "        script_query = {\n",
        "            \"size\": nbr_candidate,\n",
        "            \"_source\": {\"includes\": [\"content\"]},\n",
        "            \"query\": {\n",
        "                \"script_score\": {\n",
        "                    \"query\": {\n",
        "                        \"bool\": {\n",
        "                            \"must\": {\n",
        "                                \"term\": {\"source\": source}\n",
        "                            }\n",
        "                        }\n",
        "                    },\n",
        "                    \"script\": {\n",
        "                        \"source\": f\"cosineSimilarity(params.query_vector, 'embeddings') + 1.0\",\n",
        "                        \"params\": {\"query_vector\": sent_embeddings}\n",
        "                        }\n",
        "                    },\n",
        "                }\n",
        "            }\n",
        "    else:\n",
        "        script_query = {\n",
        "            \"size\": nbr_candidate,\n",
        "            \"_source\": {\"includes\": [\"content\"]},\n",
        "            \"query\": {\n",
        "                \"script_score\": {\n",
        "                    \"query\": {\"match_all\": {}},\n",
        "                    \"script\": {\n",
        "                        \"source\": f\"cosineSimilarity(params.query_vector, 'embeddings') + 1.0\",\n",
        "                        \"params\": {\"query_vector\": sent_embeddings}\n",
        "                        }\n",
        "                    },\n",
        "                }\n",
        "            }\n",
        "\n",
        "    search_results = elasticsearch_client.search(index=index_name, body=script_query)\n",
        "    best_documents = [\n",
        "            {\n",
        "                'document': document['_id'],\n",
        "                'score': document['_score'],\n",
        "                'content': document['_source']['content']\n",
        "            }\n",
        "            for document in search_results['hits']['hits']\n",
        "        ]\n",
        "    return best_documents"
      ],
      "execution_count": null,
      "outputs": [],
      "metadata": {
        "datalore": {
          "node_id": "jdg1feA8bDGzKIsjUO3OyH",
          "type": "CODE",
          "hide_input_from_viewers": true,
          "hide_output_from_viewers": true
        },
        "id": "lfH4ixnMV-9Q"
      }
    },
    {
      "cell_type": "code",
      "source": [
        "# Cohere reranker setup\n",
        "COHERE_KEY='Your_cohere_key'\n",
        "COHERE_RERANKER_MODEL='rerank-multilingual-v2.0'\n",
        "\n",
        "from sentence_transformers.cross_encoder import CrossEncoder\n",
        "import cohere\n",
        "\n",
        "# Load different Cross-Encoder models for reranking\n",
        "cross_model = CrossEncoder('dangvantuan/CrossEncoder-camembert-large', max_length=512)\n",
        "cross_model_ft_bert = CrossEncoder('LeviatanAIResearch/cross-encoder-bert-base-fr-v1', max_length=512)\n",
        "cross_model_ft_1 = CrossEncoder('LeviatanAIResearch/cross-encoder-context-question-fr-v1', max_length=512)\n",
        "cross_model_ft_2 = CrossEncoder('LeviatanAIResearch/cross-encoder-context-question-fr-v2', max_length=512)\n",
        "cross_model_ft_3 = CrossEncoder('LeviatanAIResearch/cross-encoder-context-question-fr-v3', max_length=512)"
      ],
      "execution_count": null,
      "outputs": [
        {
          "data": {
            "application/vnd.jupyter.widget-view+json": {
              "version_major": 2,
              "version_minor": 0,
              "model_id": "dcb865fa72064676a92e9e5f5a803772"
            }
          },
          "metadata": {
            "application/vnd.jupyter.widget-view+json": {
              "datalore": {
                "widget_id": "521KTdF9u4cTY4dphPGdx5"
              }
            }
          },
          "output_type": "display_data"
        },
        {
          "data": {
            "application/vnd.jupyter.widget-view+json": {
              "version_major": 2,
              "version_minor": 0,
              "model_id": "af781faf4dc64bffb3fd708f08bb8598"
            }
          },
          "metadata": {
            "application/vnd.jupyter.widget-view+json": {
              "datalore": {
                "widget_id": "nP6aSbs2135COceCFe2fws"
              }
            }
          },
          "output_type": "display_data"
        },
        {
          "data": {
            "application/vnd.jupyter.widget-view+json": {
              "version_major": 2,
              "version_minor": 0,
              "model_id": "3f5e2e5501c84ad78b22b763977877d3"
            }
          },
          "metadata": {
            "application/vnd.jupyter.widget-view+json": {
              "datalore": {
                "widget_id": "6LWzQ7wrfs9RHFMhrO0tZT"
              }
            }
          },
          "output_type": "display_data"
        },
        {
          "data": {
            "application/vnd.jupyter.widget-view+json": {
              "version_major": 2,
              "version_minor": 0,
              "model_id": "fa0c4b0a2ad6499d97e3ab755126e5dc"
            }
          },
          "metadata": {
            "application/vnd.jupyter.widget-view+json": {
              "datalore": {
                "widget_id": "b9NVbACXjL7RDdchZZZh1B"
              }
            }
          },
          "output_type": "display_data"
        },
        {
          "data": {
            "application/vnd.jupyter.widget-view+json": {
              "version_major": 2,
              "version_minor": 0,
              "model_id": "88f229b4bceb473f91ac5777458af93c"
            }
          },
          "metadata": {
            "application/vnd.jupyter.widget-view+json": {
              "datalore": {
                "widget_id": "dt0pJMGDWc2SMBAJlnPlPp"
              }
            }
          },
          "output_type": "display_data"
        },
        {
          "data": {
            "application/vnd.jupyter.widget-view+json": {
              "version_major": 2,
              "version_minor": 0,
              "model_id": "f5523e4582754588b4441b1a49614c8c"
            }
          },
          "metadata": {
            "application/vnd.jupyter.widget-view+json": {
              "datalore": {
                "widget_id": "OfNKCWJsQcw9bJPdNKS2e1"
              }
            }
          },
          "output_type": "display_data"
        },
        {
          "data": {
            "application/vnd.jupyter.widget-view+json": {
              "version_major": 2,
              "version_minor": 0,
              "model_id": "d9098eca94bc44c1a53731aeeaa80fa7"
            }
          },
          "metadata": {
            "application/vnd.jupyter.widget-view+json": {
              "datalore": {
                "widget_id": "bf9GjuPV08OTea4PZSQWA5"
              }
            }
          },
          "output_type": "display_data"
        },
        {
          "data": {
            "application/vnd.jupyter.widget-view+json": {
              "version_major": 2,
              "version_minor": 0,
              "model_id": "41a04f43b4a744878854a1db5261dda6"
            }
          },
          "metadata": {
            "application/vnd.jupyter.widget-view+json": {
              "datalore": {
                "widget_id": "meRjS8BdH8hCyFTDuDzPgJ"
              }
            }
          },
          "output_type": "display_data"
        },
        {
          "data": {
            "application/vnd.jupyter.widget-view+json": {
              "version_major": 2,
              "version_minor": 0,
              "model_id": "4131dbb506514be9b2f86ea3eaa4ca84"
            }
          },
          "metadata": {
            "application/vnd.jupyter.widget-view+json": {
              "datalore": {
                "widget_id": "o6BA3wUzj5rymkDyD1zf6Y"
              }
            }
          },
          "output_type": "display_data"
        },
        {
          "data": {
            "application/vnd.jupyter.widget-view+json": {
              "version_major": 2,
              "version_minor": 0,
              "model_id": "dfd17b74707d477081a0c0d1a2ed0884"
            }
          },
          "metadata": {
            "application/vnd.jupyter.widget-view+json": {
              "datalore": {
                "widget_id": "ugxDaIxlTyAEGctDvCOdPa"
              }
            }
          },
          "output_type": "display_data"
        },
        {
          "data": {
            "application/vnd.jupyter.widget-view+json": {
              "version_major": 2,
              "version_minor": 0,
              "model_id": "2ec5e81a251a42539144f10e3faeb576"
            }
          },
          "metadata": {
            "application/vnd.jupyter.widget-view+json": {
              "datalore": {
                "widget_id": "xfRFKQ9rrPoUhelhjEb4f8"
              }
            }
          },
          "output_type": "display_data"
        },
        {
          "data": {
            "application/vnd.jupyter.widget-view+json": {
              "version_major": 2,
              "version_minor": 0,
              "model_id": "15f22991b16e4416b1998172e5e555b6"
            }
          },
          "metadata": {
            "application/vnd.jupyter.widget-view+json": {
              "datalore": {
                "widget_id": "QrsF22D7n2wxnwIqS45Ohg"
              }
            }
          },
          "output_type": "display_data"
        },
        {
          "data": {
            "application/vnd.jupyter.widget-view+json": {
              "version_major": 2,
              "version_minor": 0,
              "model_id": "e821c2d022ba4ecca9f0b0e9dc7504af"
            }
          },
          "metadata": {
            "application/vnd.jupyter.widget-view+json": {
              "datalore": {
                "widget_id": "X05ZRmLikaLOj6ChbniW8g"
              }
            }
          },
          "output_type": "display_data"
        },
        {
          "data": {
            "application/vnd.jupyter.widget-view+json": {
              "version_major": 2,
              "version_minor": 0,
              "model_id": "d9f05340134c42eca97e74ed58074538"
            }
          },
          "metadata": {
            "application/vnd.jupyter.widget-view+json": {
              "datalore": {
                "widget_id": "43mDSwQeNthZU6YWuwBfL5"
              }
            }
          },
          "output_type": "display_data"
        },
        {
          "data": {
            "application/vnd.jupyter.widget-view+json": {
              "version_major": 2,
              "version_minor": 0,
              "model_id": "47f01b586138429b8285d69c1e5d8504"
            }
          },
          "metadata": {
            "application/vnd.jupyter.widget-view+json": {
              "datalore": {
                "widget_id": "YzDR59zRfI3IfXKpYKJyS3"
              }
            }
          },
          "output_type": "display_data"
        },
        {
          "data": {
            "application/vnd.jupyter.widget-view+json": {
              "version_major": 2,
              "version_minor": 0,
              "model_id": "622e48ac0cce44f292986b2c808862aa"
            }
          },
          "metadata": {
            "application/vnd.jupyter.widget-view+json": {
              "datalore": {
                "widget_id": "X1oKJz0swHYVOU6pho2Gcp"
              }
            }
          },
          "output_type": "display_data"
        },
        {
          "data": {
            "application/vnd.jupyter.widget-view+json": {
              "version_major": 2,
              "version_minor": 0,
              "model_id": "50b9d887d8c44aa3ac3131b6c6bd435b"
            }
          },
          "metadata": {
            "application/vnd.jupyter.widget-view+json": {
              "datalore": {
                "widget_id": "oJzcxZHkYrgnqPEJX0I1kB"
              }
            }
          },
          "output_type": "display_data"
        },
        {
          "data": {
            "application/vnd.jupyter.widget-view+json": {
              "version_major": 2,
              "version_minor": 0,
              "model_id": "ccc704d926504184a29692724f01ffc7"
            }
          },
          "metadata": {
            "application/vnd.jupyter.widget-view+json": {
              "datalore": {
                "widget_id": "ehIH8CyQGRswQXzNGce5jV"
              }
            }
          },
          "output_type": "display_data"
        },
        {
          "data": {
            "application/vnd.jupyter.widget-view+json": {
              "version_major": 2,
              "version_minor": 0,
              "model_id": "df9676ac33c64ec9ae4a6abae0308864"
            }
          },
          "metadata": {
            "application/vnd.jupyter.widget-view+json": {
              "datalore": {
                "widget_id": "N4RTld9dxpJmyXTH41FjUp"
              }
            }
          },
          "output_type": "display_data"
        },
        {
          "data": {
            "application/vnd.jupyter.widget-view+json": {
              "version_major": 2,
              "version_minor": 0,
              "model_id": "0e550db960d8430bbb08cc141f0bc7c5"
            }
          },
          "metadata": {
            "application/vnd.jupyter.widget-view+json": {
              "datalore": {
                "widget_id": "UMZldLGxDEjsyN4RCHgxiJ"
              }
            }
          },
          "output_type": "display_data"
        },
        {
          "data": {
            "application/vnd.jupyter.widget-view+json": {
              "version_major": 2,
              "version_minor": 0,
              "model_id": "c14a4a27d435415db1ed1d0f0a3997cb"
            }
          },
          "metadata": {
            "application/vnd.jupyter.widget-view+json": {
              "datalore": {
                "widget_id": "8CzH2ywpaOdDuvuujH2dAS"
              }
            }
          },
          "output_type": "display_data"
        },
        {
          "data": {
            "application/vnd.jupyter.widget-view+json": {
              "version_major": 2,
              "version_minor": 0,
              "model_id": "cb3ba8a45c004e0c99e3c062542e7aa4"
            }
          },
          "metadata": {
            "application/vnd.jupyter.widget-view+json": {
              "datalore": {
                "widget_id": "wRTvXVwERXXcVkMXUqn62G"
              }
            }
          },
          "output_type": "display_data"
        },
        {
          "data": {
            "application/vnd.jupyter.widget-view+json": {
              "version_major": 2,
              "version_minor": 0,
              "model_id": "beee87b3449e4a73a11ceb98a2abbdac"
            }
          },
          "metadata": {
            "application/vnd.jupyter.widget-view+json": {
              "datalore": {
                "widget_id": "BTTwewoZdTkiggD7UCFJMs"
              }
            }
          },
          "output_type": "display_data"
        },
        {
          "data": {
            "application/vnd.jupyter.widget-view+json": {
              "version_major": 2,
              "version_minor": 0,
              "model_id": "2d044df3b61c414392e7bb460db59fb9"
            }
          },
          "metadata": {
            "application/vnd.jupyter.widget-view+json": {
              "datalore": {
                "widget_id": "qtx9Ek8YXTxieYS84maXvm"
              }
            }
          },
          "output_type": "display_data"
        },
        {
          "data": {
            "application/vnd.jupyter.widget-view+json": {
              "version_major": 2,
              "version_minor": 0,
              "model_id": "c9ac029d244d45d8889b3e90260af9eb"
            }
          },
          "metadata": {
            "application/vnd.jupyter.widget-view+json": {
              "datalore": {
                "widget_id": "J4Xthr9dceo7sSEfCcVqnJ"
              }
            }
          },
          "output_type": "display_data"
        },
        {
          "data": {
            "application/vnd.jupyter.widget-view+json": {
              "version_major": 2,
              "version_minor": 0,
              "model_id": "35f768189de742569e5b88fc44515599"
            }
          },
          "metadata": {
            "application/vnd.jupyter.widget-view+json": {
              "datalore": {
                "widget_id": "Lvy3deyQVehUNyf4epOLPQ"
              }
            }
          },
          "output_type": "display_data"
        },
        {
          "data": {
            "application/vnd.jupyter.widget-view+json": {
              "version_major": 2,
              "version_minor": 0,
              "model_id": "31ae585ec74b4ce58df4a3ed1da6b150"
            }
          },
          "metadata": {
            "application/vnd.jupyter.widget-view+json": {
              "datalore": {
                "widget_id": "f8g96U90m8hStMaZNHosoX"
              }
            }
          },
          "output_type": "display_data"
        },
        {
          "data": {
            "application/vnd.jupyter.widget-view+json": {
              "version_major": 2,
              "version_minor": 0,
              "model_id": "cb3f76f0eb154bb3bbf972fe47fcac2c"
            }
          },
          "metadata": {
            "application/vnd.jupyter.widget-view+json": {
              "datalore": {
                "widget_id": "Qt4Z1umiHXgfO5NqeUCiKa"
              }
            }
          },
          "output_type": "display_data"
        },
        {
          "data": {
            "application/vnd.jupyter.widget-view+json": {
              "version_major": 2,
              "version_minor": 0,
              "model_id": "d38995fda125483c92f2a34bf4634ff3"
            }
          },
          "metadata": {
            "application/vnd.jupyter.widget-view+json": {
              "datalore": {
                "widget_id": "iiQNDawZ13w0M43KEiSxoz"
              }
            }
          },
          "output_type": "display_data"
        },
        {
          "data": {
            "application/vnd.jupyter.widget-view+json": {
              "version_major": 2,
              "version_minor": 0,
              "model_id": "281d13a8a81148b9934bd1d415f69288"
            }
          },
          "metadata": {
            "application/vnd.jupyter.widget-view+json": {
              "datalore": {
                "widget_id": "YNE844L2eFUKGDnE0eDRff"
              }
            }
          },
          "output_type": "display_data"
        },
        {
          "data": {
            "application/vnd.jupyter.widget-view+json": {
              "version_major": 2,
              "version_minor": 0,
              "model_id": "3f9ec6e78b0747d0a6babfe0c42e1416"
            }
          },
          "metadata": {
            "application/vnd.jupyter.widget-view+json": {
              "datalore": {
                "widget_id": "KAfPdJ5oXqgfzXCjHigH7q"
              }
            }
          },
          "output_type": "display_data"
        },
        {
          "data": {
            "application/vnd.jupyter.widget-view+json": {
              "version_major": 2,
              "version_minor": 0,
              "model_id": "3d60907c99b742c0b168cef69d4327fa"
            }
          },
          "metadata": {
            "application/vnd.jupyter.widget-view+json": {
              "datalore": {
                "widget_id": "tQsfaIW4SLdwleMumsN0EX"
              }
            }
          },
          "output_type": "display_data"
        },
        {
          "data": {
            "application/vnd.jupyter.widget-view+json": {
              "version_major": 2,
              "version_minor": 0,
              "model_id": "edac81ed55314a5799d589c23ebfa300"
            }
          },
          "metadata": {
            "application/vnd.jupyter.widget-view+json": {
              "datalore": {
                "widget_id": "Mt6Z8dsqto291hnOMTYCOi"
              }
            }
          },
          "output_type": "display_data"
        }
      ],
      "metadata": {
        "datalore": {
          "node_id": "u3TCqECS5d6ayzxanodXyk",
          "type": "CODE",
          "hide_input_from_viewers": true,
          "hide_output_from_viewers": true
        },
        "colab": {
          "referenced_widgets": [
            "dcb865fa72064676a92e9e5f5a803772",
            "af781faf4dc64bffb3fd708f08bb8598",
            "3f5e2e5501c84ad78b22b763977877d3",
            "fa0c4b0a2ad6499d97e3ab755126e5dc",
            "88f229b4bceb473f91ac5777458af93c",
            "f5523e4582754588b4441b1a49614c8c",
            "d9098eca94bc44c1a53731aeeaa80fa7",
            "41a04f43b4a744878854a1db5261dda6",
            "4131dbb506514be9b2f86ea3eaa4ca84",
            "dfd17b74707d477081a0c0d1a2ed0884",
            "2ec5e81a251a42539144f10e3faeb576",
            "15f22991b16e4416b1998172e5e555b6",
            "e821c2d022ba4ecca9f0b0e9dc7504af",
            "d9f05340134c42eca97e74ed58074538",
            "47f01b586138429b8285d69c1e5d8504",
            "622e48ac0cce44f292986b2c808862aa",
            "50b9d887d8c44aa3ac3131b6c6bd435b",
            "ccc704d926504184a29692724f01ffc7",
            "df9676ac33c64ec9ae4a6abae0308864",
            "0e550db960d8430bbb08cc141f0bc7c5",
            "c14a4a27d435415db1ed1d0f0a3997cb",
            "cb3ba8a45c004e0c99e3c062542e7aa4",
            "beee87b3449e4a73a11ceb98a2abbdac",
            "2d044df3b61c414392e7bb460db59fb9",
            "c9ac029d244d45d8889b3e90260af9eb",
            "35f768189de742569e5b88fc44515599",
            "31ae585ec74b4ce58df4a3ed1da6b150",
            "cb3f76f0eb154bb3bbf972fe47fcac2c",
            "d38995fda125483c92f2a34bf4634ff3",
            "281d13a8a81148b9934bd1d415f69288",
            "3f9ec6e78b0747d0a6babfe0c42e1416",
            "3d60907c99b742c0b168cef69d4327fa",
            "edac81ed55314a5799d589c23ebfa300"
          ]
        },
        "id": "JNG0Z9e8V-9Q",
        "outputId": "8cf29948-576b-47e8-af8b-fad70c06a9b8"
      }
    },
    {
      "cell_type": "code",
      "source": [
        "import copy\n",
        "\n",
        "def get_reranker_result(sentence, similarity_candidates, reranker_model, number=10):\n",
        "   \"\"\"\n",
        "    Rerank retrieved documents using different reranker models.\n",
        "\n",
        "    Parameters\n",
        "    ----------\n",
        "    sentence : str\n",
        "        The query sentence.\n",
        "    similarity_candidates : list\n",
        "        A list of retrieved documents from Elasticsearch.\n",
        "    reranker_model : str\n",
        "        The reranker model to use ('cohere' or different cross-encoder models).\n",
        "    number : int, optional\n",
        "        The number of top-ranked documents to return (default: 10).\n",
        "\n",
        "    Returns\n",
        "    -------\n",
        "    list\n",
        "        A sorted list of documents based on reranked relevance scores.\n",
        "    \"\"\"\n",
        "\n",
        "    if reranker_model.lower() in [\n",
        "        'cohere', 'cross-encoder-camembert', 'cross-encoder-ft-vbert',\n",
        "        'cross-encoder-ft-v1', 'cross-encoder-ft-v2', 'cross-encoder-ft-v3'\n",
        "    ]:\n",
        "        candidates = copy.deepcopy(similarity_candidates)\n",
        "\n",
        "        if reranker_model.lower() == 'cohere':\n",
        "            cohere_client = cohere.Client(COHERE_KEY)\n",
        "            # Extract the content of each advertisement from the provided list\n",
        "            documents = [document['content'] for document in candidates]\n",
        "            # Perform reranking using Cohere API\n",
        "            rerank_results = cohere_client.rerank(\n",
        "                query=sentence,\n",
        "                documents=documents,\n",
        "                top_n=number,\n",
        "                model=COHERE_RERANKER_MODEL\n",
        "            )\n",
        "            # Update original recommendation with rerank index and relevance score\n",
        "            for rerank_index in range(len(rerank_results.results)):\n",
        "                rerank_result = rerank_results.results[rerank_index]\n",
        "\n",
        "                original_index = rerank_result.index\n",
        "\n",
        "                relevance_score = rerank_result.relevance_score\n",
        "                candidates[original_index]['rerank_index'] = rerank_index\n",
        "                candidates[original_index]['relevance_score'] = relevance_score\n",
        "            # Filter out recommendations that didn't get reranked\n",
        "            new_candidates = [recom for recom in candidates if 'rerank_index' in recom.keys()]\n",
        "            sorted_data = sorted(new_candidates, key=lambda x: x['relevance_score'], reverse=True)\n",
        "            return sorted_data\n",
        "\n",
        "        else:\n",
        "            documents = [document['content'] for document in candidates]\n",
        "            if reranker_model.lower() == 'cross-encoder-camembert':\n",
        "                # Predict relevance scores using cross-model prediction\n",
        "                scores = cross_model.predict([\n",
        "                    (sentence, document)\n",
        "                    for document in documents\n",
        "                ])\n",
        "            elif reranker_model.lower() == 'cross-encoder-ft-vbert':\n",
        "                scores = cross_model_ft_bert.predict([\n",
        "                    (sentence, document)\n",
        "                    for document in documents\n",
        "                ])\n",
        "            elif reranker_model.lower() == 'cross-encoder-ft-v1':\n",
        "                scores = cross_model_ft_1.predict([\n",
        "                    (sentence, document)\n",
        "                    for document in documents\n",
        "                ])\n",
        "            elif reranker_model.lower() == 'cross-encoder-ft-v2':\n",
        "                scores = cross_model_ft_2.predict([\n",
        "                    (sentence, document)\n",
        "                    for document in documents\n",
        "                ])\n",
        "            else:\n",
        "                scores = cross_model_ft_3.predict([\n",
        "                    (sentence, document)\n",
        "                    for document in documents\n",
        "                ])\n",
        "\n",
        "            # Update original recommendation with relevance scores\n",
        "            for index in range(len(candidates)):\n",
        "                candidates[index]['relevance_score'] = float(scores[index])  # float32 to float for JSON serializability\n",
        "            # Sort recommendations based on relevance scores\n",
        "            sorted_reranker_result = sorted(\n",
        "                candidates,\n",
        "                key=lambda x: x['relevance_score'],\n",
        "                reverse=True\n",
        "                )\n",
        "            # Select top recommendations based on nbr_recommendation\n",
        "            sorted_reranker_result = sorted_reranker_result[:number]\n",
        "\n",
        "            for index, item in enumerate(sorted_reranker_result):\n",
        "                item['rerank_index'] = index\n",
        "            del candidates\n",
        "            return sorted_reranker_result\n",
        "    else:\n",
        "        raise ValueError(f'Unknown reranker model: {reranker_model}')\n"
      ],
      "execution_count": null,
      "outputs": [],
      "metadata": {
        "datalore": {
          "node_id": "Xkm53xeQ5XR2Ajyphz3Rlx",
          "type": "CODE",
          "hide_input_from_viewers": true,
          "hide_output_from_viewers": true
        },
        "id": "Sm3-rHO5V-9Q"
      }
    },
    {
      "cell_type": "code",
      "source": [
        "from tqdm import tqdm\n",
        "import time\n",
        "\n",
        "IS_TEST_ENV = True\n",
        "\n",
        "def get_reranker_documents(dataset, source=None, context_tag=\"text1\", question_tag=\"text2\"):\n",
        "    \"\"\"\n",
        "    Retrieve and rerank documents for a given dataset using different ranking models.\n",
        "\n",
        "    Parameters\n",
        "    ----------\n",
        "    dataset : datasets.Dataset\n",
        "        The dataset containing questions and contexts.\n",
        "    source : str, optional\n",
        "        The specific source dataset to filter (default: None, which includes all sources).\n",
        "    context_tag : str, optional\n",
        "        The key in the dataset that represents the context (default: \"text1\").\n",
        "    question_tag : str, optional\n",
        "        The key in the dataset that represents the question (default: \"text2\").\n",
        "\n",
        "    Returns\n",
        "    -------\n",
        "    list\n",
        "        A list of dictionaries, each containing the question, original context,\n",
        "        and ranked results from various models.\n",
        "    \"\"\"\n",
        "    reranker_documents = []\n",
        "\n",
        "    # Filter dataset based on the source if specified\n",
        "    if source:\n",
        "        filtered_dataset_by_source = dataset.filter(lambda example: example['source'] == source)\n",
        "    else:\n",
        "        filtered_dataset_by_source = dataset\n",
        "\n",
        "    # Reduce dataset size in test mode for faster processing\n",
        "    if IS_TEST_ENV:\n",
        "        filtered_dataset_by_source = filtered_dataset_by_source.select(range(0,20))\n",
        "\n",
        "    print(filtered_dataset_by_source)\n",
        "    print('dataset len is ', len(filtered_dataset_by_source))\n",
        "\n",
        "    # Process each data entry\n",
        "    for one_data in tqdm(filtered_dataset_by_source):\n",
        "        question = one_data[question_tag]\n",
        "\n",
        "        sent_embedding = get_vector_embeddings(question)\n",
        "        # Retrieve candidates from Elasticsearch\n",
        "        similarity_candidates = get_candidates(sent_embedding, source)\n",
        "        documents_no_reranker = get_candidates(sent_embedding, source, nbr_candidate=30)\n",
        "\n",
        "        cross_model_documents_for_one_question = get_reranker_result(\n",
        "            question,\n",
        "            similarity_candidates,\n",
        "            'cross-encoder-camembert',\n",
        "            number=10\n",
        "        )\n",
        "\n",
        "        cross_model_documents_for_one_question = [\n",
        "            item['content']\n",
        "            for item in cross_model_documents_for_one_question\n",
        "        ]\n",
        "\n",
        "\n",
        "        # LeviatanAIResearch/cross-encoder-bert-base-fr-v1\n",
        "        cross_model_ft_bert_documents_for_one_question = get_reranker_result(\n",
        "            question,\n",
        "            similarity_candidates,\n",
        "            'cross-encoder-ft-vbert',\n",
        "            number=10\n",
        "        )\n",
        "\n",
        "        cross_model_ft_bert_documents_for_one_question = [\n",
        "            item['content']\n",
        "            for item in cross_model_ft_bert_documents_for_one_question\n",
        "        ]\n",
        "\n",
        "        # LeviatanAIResearch/cross-encoder-context-question-fr-v1\n",
        "        cross_model_ft_1_documents_for_one_question = get_reranker_result(\n",
        "            question,\n",
        "            similarity_candidates,\n",
        "            'cross-encoder-ft-v1',\n",
        "            number=10\n",
        "        )\n",
        "\n",
        "        cross_model_ft_1_documents_for_one_question = [\n",
        "            item['content']\n",
        "            for item in cross_model_ft_1_documents_for_one_question\n",
        "        ]\n",
        "\n",
        "\n",
        "        # LeviatanAIResearch/cross-encoder-context-question-fr-v2\n",
        "        cross_model_ft_2_documents_for_one_question = get_reranker_result(\n",
        "            question,\n",
        "            similarity_candidates,\n",
        "            'cross-encoder-ft-v2',\n",
        "            number=10\n",
        "        )\n",
        "\n",
        "        cross_model_ft_2_documents_for_one_question = [\n",
        "            item['content']\n",
        "            for item in cross_model_ft_2_documents_for_one_question\n",
        "        ]\n",
        "\n",
        "        # LeviatanAIResearch/cross-encoder-context-question-fr-v3\n",
        "        cross_model_ft_3_documents_for_one_question = get_reranker_result(\n",
        "            question,\n",
        "            similarity_candidates,\n",
        "            'cross-encoder-ft-v3',\n",
        "            number=10\n",
        "        )\n",
        "        cross_model_ft_3_documents_for_one_question = [\n",
        "            item['content']\n",
        "            for item in cross_model_ft_3_documents_for_one_question\n",
        "        ]\n",
        "\n",
        "        # cohere\n",
        "        cohere_documents_for_one_question = get_reranker_result(\n",
        "            question,\n",
        "            similarity_candidates,\n",
        "            'cohere',\n",
        "            number=10\n",
        "        )\n",
        "\n",
        "        cohere_documents_for_one_question = [\n",
        "            item['content']\n",
        "            for item in cohere_documents_for_one_question\n",
        "        ]\n",
        "\n",
        "        # Construct final result dictionary\n",
        "        element = {\n",
        "            \"question\":question,\n",
        "            \"context\":one_data[context_tag],\n",
        "            \"no_reranker\": documents_no_reranker,\n",
        "            \"cohere\": cohere_documents_for_one_question,\n",
        "            \"cross_encoder\": cross_model_documents_for_one_question,\n",
        "            \"cross-encoder-ft-vbert\": cross_model_ft_bert_documents_for_one_question,\n",
        "            \"cross-encoder-ft-v1\": cross_model_ft_1_documents_for_one_question,\n",
        "            \"cross-encoder-ft-v2\": cross_model_ft_2_documents_for_one_question,\n",
        "            \"cross-encoder-ft-v3\": cross_model_ft_3_documents_for_one_question\n",
        "        }\n",
        "\n",
        "        # Append result to the list\n",
        "        reranker_documents.append(element)\n",
        "\n",
        "        # Optional: Save intermediate results to a file\n",
        "        \"\"\"\n",
        "        with open(f'temp_reranker_document_{source}.json', 'a') as temp_file:\n",
        "            output_utf8 = json.dumps(element, indent=4, ensure_ascii=False).encode('utf8')\n",
        "            temp_file.write(output_utf8.decode())\n",
        "        \"\"\"\n",
        "    return reranker_documents"
      ],
      "execution_count": null,
      "outputs": [],
      "metadata": {
        "datalore": {
          "node_id": "Je5ExMOzZdExMNvwUsm2DJ",
          "type": "CODE",
          "hide_input_from_viewers": true,
          "hide_output_from_viewers": true
        },
        "id": "NDYvUWFZV-9Q"
      }
    },
    {
      "cell_type": "code",
      "source": [
        "filtered_dataset"
      ],
      "execution_count": null,
      "outputs": [
        {
          "data": {
            "text/plain": [
              "Dataset({\n",
              "    features: ['text1', 'text2', 'label', 'source'],\n",
              "    num_rows: 4339\n",
              "})"
            ]
          },
          "metadata": {},
          "output_type": "display_data"
        }
      ],
      "metadata": {
        "datalore": {
          "node_id": "l7dswZuH6S2QsMnQrR4rQ7",
          "type": "CODE",
          "hide_input_from_viewers": true,
          "hide_output_from_viewers": true
        },
        "id": "g5eb7n6eV-9Q",
        "outputId": "46c118ed-b640-45e7-ff6a-31b2fef4da23"
      }
    },
    {
      "cell_type": "code",
      "source": [
        "# Test\n",
        "source = 'fquad'\n",
        "filtered_dataset.filter(lambda example: example['source'] == source)\n",
        "reranker_documents = get_reranker_documents(\n",
        "    filtered_dataset,\n",
        "    source,\n",
        "    list(filtered_dataset.features.keys())[0],   # context_tag\n",
        "    list(filtered_dataset.features.keys())[1]    # question_tag\n",
        ")"
      ],
      "execution_count": null,
      "outputs": [
        {
          "name": "stdout",
          "text": [
            "Dataset({\n",
            "    features: ['text1', 'text2', 'label', 'source'],\n",
            "    num_rows: 20\n",
            "})\n",
            "dataset len is  20\n"
          ],
          "output_type": "stream"
        },
        {
          "name": "stderr",
          "text": [
            "\r  0%|          | 0/20 [00:00<?, ?it/s]\r  5%|▌         | 1/20 [00:03<01:09,  3.65s/it]\r 10%|█         | 2/20 [00:05<00:46,  2.56s/it]\r 15%|█▌        | 3/20 [00:07<00:37,  2.23s/it]\r 20%|██        | 4/20 [00:08<00:32,  2.02s/it]\r 25%|██▌       | 5/20 [00:11<00:31,  2.11s/it]\r 30%|███       | 6/20 [00:12<00:27,  1.93s/it]\r 35%|███▌      | 7/20 [00:14<00:23,  1.84s/it]\r 40%|████      | 8/20 [00:16<00:21,  1.83s/it]\r 45%|████▌     | 9/20 [00:18<00:20,  1.84s/it]\r 50%|█████     | 10/20 [00:19<00:18,  1.81s/it]\r 55%|█████▌    | 11/20 [00:21<00:16,  1.88s/it]\r 60%|██████    | 12/20 [00:23<00:14,  1.87s/it]\r 65%|██████▌   | 13/20 [00:25<00:12,  1.86s/it]\r 70%|███████   | 14/20 [00:27<00:11,  1.85s/it]\r 75%|███████▌  | 15/20 [00:29<00:09,  1.84s/it]\r 80%|████████  | 16/20 [00:30<00:07,  1.81s/it]\r 85%|████████▌ | 17/20 [00:32<00:05,  1.80s/it]\r 90%|█████████ | 18/20 [00:34<00:03,  1.81s/it]\r 95%|█████████▌| 19/20 [00:36<00:01,  1.81s/it]\r100%|██████████| 20/20 [00:38<00:00,  1.75s/it]\r100%|██████████| 20/20 [00:38<00:00,  1.90s/it]\n"
          ],
          "output_type": "stream"
        },
        {
          "data": {
            "application/vnd.jupyter.widget-view+json": {
              "version_major": 2,
              "version_minor": 0,
              "model_id": "8a42cfb021b745cca34053009a8a5749"
            }
          },
          "metadata": {
            "application/vnd.jupyter.widget-view+json": {
              "datalore": {
                "widget_id": "U0MLUX3RmYAY3C4nkuQz6p"
              }
            }
          },
          "output_type": "display_data"
        },
        {
          "data": {
            "application/vnd.jupyter.widget-view+json": {
              "version_major": 2,
              "version_minor": 0,
              "model_id": "10829ac086ad4e93832c1d19fcad2e4c"
            }
          },
          "metadata": {
            "application/vnd.jupyter.widget-view+json": {
              "datalore": {
                "widget_id": "sKUYifMZkK9pLEmjUddKhi"
              }
            }
          },
          "output_type": "display_data"
        }
      ],
      "metadata": {
        "datalore": {
          "node_id": "QqOFW2flPxqkKSmesn0Ml4",
          "type": "CODE",
          "hide_input_from_viewers": true,
          "hide_output_from_viewers": true
        },
        "colab": {
          "referenced_widgets": [
            "8a42cfb021b745cca34053009a8a5749",
            "10829ac086ad4e93832c1d19fcad2e4c"
          ]
        },
        "id": "PeM7i3zQV-9Q",
        "outputId": "c08ffe47-3f41-48e6-d13e-8d22342e629a"
      }
    },
    {
      "cell_type": "code",
      "source": [
        "#for source in ['fquad', 'pandora', 'piaf']:\n",
        "#for source in ['pandora', 'piaf']:\n",
        "for source in ['piaf']:\n",
        "    reranker_documents = get_reranker_documents(filtered_dataset, source)\n",
        "\n",
        "    with open(f'temp_camenbert_reranker_document_{source}.json', 'w') as file:\n",
        "        output_utf8 = json.dumps(reranker_documents, indent=4, ensure_ascii=False).encode('utf8')\n",
        "        file.write(output_utf8.decode())\n"
      ],
      "execution_count": null,
      "outputs": [
        {
          "name": "stdout",
          "text": [
            "dataset len is  1151\n"
          ],
          "output_type": "stream"
        },
        {
          "name": "stderr",
          "text": [
            "\r  0%|          | 0/1151 [00:00<?, ?it/s]\r  0%|          | 1/1151 [00:00<05:36,  3.42it/s]\r  0%|          | 2/1151 [00:00<06:16,  3.05it/s]\r  0%|          | 3/1151 [00:00<05:46,  3.32it/s]\r  0%|          | 4/1151 [00:01<05:26,  3.51it/s]\r  0%|          | 5/1151 [00:01<05:25,  3.52it/s]\r  1%|          | 6/1151 [00:01<04:58,  3.84it/s]\r  1%|          | 7/1151 [00:01<04:42,  4.05it/s]\r  1%|          | 8/1151 [00:02<04:40,  4.07it/s]\r  1%|          | 9/1151 [00:02<04:33,  4.17it/s]\r  1%|          | 10/1151 [00:02<04:33,  4.18it/s]\r  1%|          | 11/1151 [00:02<04:26,  4.27it/s]\r  1%|          | 12/1151 [00:03<04:28,  4.24it/s]\r  1%|          | 13/1151 [00:03<04:34,  4.15it/s]\r  1%|          | 14/1151 [00:03<04:49,  3.93it/s]\r  1%|▏         | 15/1151 [00:03<04:56,  3.83it/s]\r  1%|▏         | 16/1151 [00:04<04:50,  3.90it/s]\r  1%|▏         | 17/1151 [00:04<04:55,  3.84it/s]\r  2%|▏         | 18/1151 [00:04<04:48,  3.93it/s]\r  2%|▏         | 19/1151 [00:04<05:00,  3.77it/s]\r  2%|▏         | 20/1151 [00:05<05:02,  3.74it/s]\r  2%|▏         | 21/1151 [00:05<05:05,  3.70it/s]\r  2%|▏         | 22/1151 [00:05<04:49,  3.90it/s]\r  2%|▏         | 23/1151 [00:05<04:55,  3.81it/s]\r  2%|▏         | 24/1151 [00:06<04:57,  3.78it/s]\r  2%|▏         | 25/1151 [00:06<04:50,  3.87it/s]\r  2%|▏         | 26/1151 [00:06<05:00,  3.74it/s]\r  2%|▏         | 27/1151 [00:07<04:53,  3.84it/s]\r  2%|▏         | 28/1151 [00:07<04:47,  3.91it/s]\r  3%|▎         | 29/1151 [00:07<04:56,  3.79it/s]\r  3%|▎         | 30/1151 [00:07<04:57,  3.77it/s]\r  3%|▎         | 31/1151 [00:08<04:58,  3.75it/s]\r  3%|▎         | 32/1151 [00:08<04:44,  3.94it/s]\r  3%|▎         | 33/1151 [00:08<04:40,  3.99it/s]\r  3%|▎         | 34/1151 [00:08<04:34,  4.07it/s]\r  3%|▎         | 35/1151 [00:09<04:39,  4.00it/s]\r  3%|▎         | 36/1151 [00:09<04:36,  4.04it/s]\r  3%|▎         | 37/1151 [00:09<04:35,  4.05it/s]\r  3%|▎         | 38/1151 [00:09<04:35,  4.04it/s]\r  3%|▎         | 39/1151 [00:10<04:34,  4.05it/s]\r  3%|▎         | 40/1151 [00:10<04:43,  3.92it/s]\r  4%|▎         | 41/1151 [00:10<04:50,  3.83it/s]\r  4%|▎         | 42/1151 [00:10<05:02,  3.67it/s]\r  4%|▎         | 43/1151 [00:11<05:25,  3.41it/s]\r  4%|▍         | 44/1151 [00:11<05:36,  3.29it/s]\r  4%|▍         | 45/1151 [00:11<06:05,  3.03it/s]\r  4%|▍         | 46/1151 [00:12<05:57,  3.09it/s]\r  4%|▍         | 47/1151 [00:12<06:29,  2.83it/s]\r  4%|▍         | 48/1151 [00:13<06:41,  2.75it/s]\r  4%|▍         | 49/1151 [00:13<06:13,  2.95it/s]\r  4%|▍         | 50/1151 [00:13<06:27,  2.84it/s]\r  4%|▍         | 51/1151 [00:13<05:50,  3.14it/s]\r  5%|▍         | 52/1151 [00:14<05:39,  3.23it/s]\r  5%|▍         | 53/1151 [00:14<05:27,  3.35it/s]\r  5%|▍         | 54/1151 [00:14<05:08,  3.56it/s]\r  5%|▍         | 55/1151 [00:15<04:54,  3.72it/s]\r  5%|▍         | 56/1151 [00:15<04:54,  3.72it/s]\r  5%|▍         | 57/1151 [00:15<04:53,  3.73it/s]\r  5%|▌         | 58/1151 [00:15<04:52,  3.74it/s]\r  5%|▌         | 59/1151 [00:16<05:11,  3.50it/s]\r  5%|▌         | 60/1151 [00:16<05:13,  3.48it/s]\r  5%|▌         | 61/1151 [00:16<05:23,  3.37it/s]\r  5%|▌         | 62/1151 [00:17<05:30,  3.30it/s]\r  5%|▌         | 63/1151 [00:17<05:17,  3.43it/s]\r  6%|▌         | 64/1151 [00:17<05:12,  3.48it/s]\r  6%|▌         | 65/1151 [00:17<05:15,  3.44it/s]\r  6%|▌         | 66/1151 [00:18<04:55,  3.67it/s]\r  6%|▌         | 67/1151 [00:18<04:49,  3.75it/s]\r  6%|▌         | 68/1151 [00:18<05:05,  3.55it/s]\r  6%|▌         | 69/1151 [00:18<04:53,  3.69it/s]\r  6%|▌         | 70/1151 [00:19<04:43,  3.82it/s]\r  6%|▌         | 71/1151 [00:19<04:42,  3.82it/s]\r  6%|▋         | 72/1151 [00:19<04:36,  3.90it/s]\r  6%|▋         | 73/1151 [00:19<04:39,  3.86it/s]\r  6%|▋         | 74/1151 [00:20<05:01,  3.57it/s]\r  7%|▋         | 75/1151 [00:20<05:05,  3.52it/s]\r  7%|▋         | 76/1151 [00:20<04:51,  3.69it/s]\r  7%|▋         | 77/1151 [00:21<04:49,  3.71it/s]\r  7%|▋         | 78/1151 [00:21<04:40,  3.83it/s]\r  7%|▋         | 79/1151 [00:21<04:31,  3.94it/s]\r  7%|▋         | 80/1151 [00:21<04:33,  3.92it/s]\r  7%|▋         | 81/1151 [00:22<04:35,  3.89it/s]\r  7%|▋         | 82/1151 [00:22<04:29,  3.96it/s]\r  7%|▋         | 83/1151 [00:22<04:27,  3.99it/s]\r  7%|▋         | 84/1151 [00:22<04:43,  3.77it/s]\r  7%|▋         | 85/1151 [00:23<04:50,  3.67it/s]\r  7%|▋         | 86/1151 [00:23<04:43,  3.76it/s]\r  8%|▊         | 87/1151 [00:23<04:46,  3.71it/s]\r  8%|▊         | 88/1151 [00:24<05:01,  3.53it/s]\r  8%|▊         | 89/1151 [00:24<05:04,  3.49it/s]\r  8%|▊         | 90/1151 [00:24<04:51,  3.64it/s]\r  8%|▊         | 91/1151 [00:24<04:49,  3.66it/s]\r  8%|▊         | 92/1151 [00:25<04:34,  3.85it/s]\r  8%|▊         | 93/1151 [00:25<04:23,  4.01it/s]\r  8%|▊         | 94/1151 [00:25<04:26,  3.96it/s]\r  8%|▊         | 95/1151 [00:25<04:31,  3.89it/s]\r  8%|▊         | 96/1151 [00:26<04:42,  3.74it/s]\r  8%|▊         | 97/1151 [00:26<04:51,  3.62it/s]\r  9%|▊         | 98/1151 [00:26<04:42,  3.73it/s]\r  9%|▊         | 99/1151 [00:26<04:38,  3.78it/s]\r  9%|▊         | 100/1151 [00:27<04:41,  3.73it/s]\r  9%|▉         | 101/1151 [00:27<04:36,  3.80it/s]\r  9%|▉         | 102/1151 [00:27<04:32,  3.85it/s]\r  9%|▉         | 103/1151 [00:27<04:20,  4.03it/s]\r  9%|▉         | 104/1151 [00:28<04:37,  3.77it/s]\r  9%|▉         | 105/1151 [00:28<04:57,  3.52it/s]\r  9%|▉         | 106/1151 [00:28<05:09,  3.38it/s]\r  9%|▉         | 107/1151 [00:29<04:48,  3.62it/s]\r  9%|▉         | 108/1151 [00:29<05:08,  3.39it/s]\r  9%|▉         | 109/1151 [00:29<05:01,  3.46it/s]\r 10%|▉         | 110/1151 [00:29<04:57,  3.50it/s]\r 10%|▉         | 111/1151 [00:30<04:48,  3.61it/s]\r 10%|▉         | 112/1151 [00:30<04:53,  3.54it/s]\r 10%|▉         | 113/1151 [00:30<04:50,  3.58it/s]\r 10%|▉         | 114/1151 [00:31<05:18,  3.25it/s]\r 10%|▉         | 115/1151 [00:31<05:23,  3.20it/s]\r 10%|█         | 116/1151 [00:31<05:24,  3.19it/s]\r 10%|█         | 117/1151 [00:32<05:26,  3.17it/s]\r 10%|█         | 118/1151 [00:32<05:26,  3.16it/s]\r 10%|█         | 119/1151 [00:32<05:05,  3.38it/s]\r 10%|█         | 120/1151 [00:33<05:07,  3.36it/s]\r 11%|█         | 121/1151 [00:33<04:55,  3.49it/s]\r 11%|█         | 122/1151 [00:33<04:49,  3.56it/s]\r 11%|█         | 123/1151 [00:33<04:36,  3.72it/s]\r 11%|█         | 124/1151 [00:34<04:35,  3.73it/s]\r 11%|█         | 125/1151 [00:34<04:22,  3.91it/s]\r 11%|█         | 126/1151 [00:34<04:16,  3.99it/s]\r 11%|█         | 127/1151 [00:34<04:21,  3.91it/s]\r 11%|█         | 128/1151 [00:34<04:09,  4.10it/s]\r 11%|█         | 129/1151 [00:35<04:23,  3.88it/s]\r 11%|█▏        | 130/1151 [00:35<04:32,  3.75it/s]\r 11%|█▏        | 131/1151 [00:35<04:37,  3.67it/s]\r 11%|█▏        | 132/1151 [00:36<04:43,  3.60it/s]\r 12%|█▏        | 133/1151 [00:36<04:32,  3.73it/s]\r 12%|█▏        | 134/1151 [00:36<04:43,  3.59it/s]\r 12%|█▏        | 135/1151 [00:36<04:46,  3.54it/s]\r 12%|█▏        | 136/1151 [00:37<04:41,  3.60it/s]\r 12%|█▏        | 137/1151 [00:37<04:38,  3.64it/s]\r 12%|█▏        | 138/1151 [00:37<04:48,  3.51it/s]\r 12%|█▏        | 139/1151 [00:38<04:45,  3.54it/s]\r 12%|█▏        | 140/1151 [00:38<04:41,  3.59it/s]\r 12%|█▏        | 141/1151 [00:38<04:45,  3.53it/s]\r 12%|█▏        | 142/1151 [00:38<04:41,  3.59it/s]\r 12%|█▏        | 143/1151 [00:39<04:30,  3.72it/s]\r 13%|█▎        | 144/1151 [00:39<04:33,  3.69it/s]\r 13%|█▎        | 145/1151 [00:39<04:39,  3.60it/s]\r 13%|█▎        | 146/1151 [00:40<04:57,  3.37it/s]\r 13%|█▎        | 147/1151 [00:40<04:55,  3.40it/s]\r 13%|█▎        | 148/1151 [00:40<04:56,  3.39it/s]\r 13%|█▎        | 149/1151 [00:40<04:47,  3.49it/s]\r 13%|█▎        | 150/1151 [00:41<04:41,  3.55it/s]\r 13%|█▎        | 151/1151 [00:41<04:44,  3.52it/s]\r 13%|█▎        | 152/1151 [00:41<04:30,  3.69it/s]\r 13%|█▎        | 153/1151 [00:41<04:15,  3.90it/s]\r 13%|█▎        | 154/1151 [00:42<04:12,  3.95it/s]\r 13%|█▎        | 155/1151 [00:42<04:07,  4.02it/s]\r 14%|█▎        | 156/1151 [00:42<04:06,  4.04it/s]\r 14%|█▎        | 157/1151 [00:42<03:57,  4.18it/s]\r 14%|█▎        | 158/1151 [00:43<03:59,  4.15it/s]\r 14%|█▍        | 159/1151 [00:43<04:00,  4.13it/s]\r 14%|█▍        | 160/1151 [00:43<03:58,  4.15it/s]\r 14%|█▍        | 161/1151 [00:43<03:51,  4.27it/s]\r 14%|█▍        | 162/1151 [00:44<03:47,  4.35it/s]\r 14%|█▍        | 163/1151 [00:44<03:44,  4.40it/s]\r 14%|█▍        | 164/1151 [00:44<03:43,  4.42it/s]\r 14%|█▍        | 165/1151 [00:44<03:35,  4.58it/s]\r 14%|█▍        | 166/1151 [00:44<03:41,  4.45it/s]\r 15%|█▍        | 167/1151 [00:45<03:46,  4.35it/s]\r 15%|█▍        | 168/1151 [00:45<03:44,  4.38it/s]\r 15%|█▍        | 169/1151 [00:45<03:40,  4.46it/s]\r 15%|█▍        | 170/1151 [00:45<03:44,  4.36it/s]\r 15%|█▍        | 171/1151 [00:46<03:48,  4.28it/s]\r 15%|█▍        | 172/1151 [00:46<04:00,  4.07it/s]\r 15%|█▌        | 173/1151 [00:46<03:58,  4.11it/s]\r 15%|█▌        | 174/1151 [00:46<04:06,  3.97it/s]\r 15%|█▌        | 175/1151 [00:47<04:11,  3.89it/s]\r 15%|█▌        | 176/1151 [00:47<04:31,  3.60it/s]\r 15%|█▌        | 177/1151 [00:47<04:29,  3.62it/s]\r 15%|█▌        | 178/1151 [00:48<04:20,  3.73it/s]\r 16%|█▌        | 179/1151 [00:48<04:14,  3.83it/s]\r 16%|█▌        | 180/1151 [00:48<04:23,  3.69it/s]\r 16%|█▌        | 181/1151 [00:48<04:36,  3.51it/s]\r 16%|█▌        | 182/1151 [00:49<04:41,  3.44it/s]\r 16%|█▌        | 183/1151 [00:49<04:42,  3.43it/s]\r 16%|█▌        | 184/1151 [00:49<04:28,  3.60it/s]\r 16%|█▌        | 185/1151 [00:49<04:17,  3.75it/s]\r 16%|█▌        | 186/1151 [00:50<04:24,  3.65it/s]\r 16%|█▌        | 187/1151 [00:50<04:37,  3.47it/s]\r 16%|█▋        | 188/1151 [00:50<04:41,  3.43it/s]\r 16%|█▋        | 189/1151 [00:51<04:47,  3.34it/s]\r 17%|█▋        | 190/1151 [00:51<04:52,  3.29it/s]\r 17%|█▋        | 191/1151 [00:51<04:42,  3.40it/s]\r 17%|█▋        | 192/1151 [00:52<04:43,  3.38it/s]\r 17%|█▋        | 193/1151 [00:52<04:50,  3.29it/s]\r 17%|█▋        | 194/1151 [00:52<04:32,  3.52it/s]\r 17%|█▋        | 195/1151 [00:52<04:22,  3.64it/s]\r 17%|█▋        | 196/1151 [00:53<04:21,  3.65it/s]\r 17%|█▋        | 197/1151 [00:53<04:20,  3.66it/s]\r 17%|█▋        | 198/1151 [00:53<04:17,  3.70it/s]\r 17%|█▋        | 199/1151 [00:53<04:19,  3.67it/s]\r 17%|█▋        | 200/1151 [00:54<04:12,  3.76it/s]\r 17%|█▋        | 201/1151 [00:54<04:00,  3.95it/s]\r 18%|█▊        | 202/1151 [00:54<04:06,  3.85it/s]\r 18%|█▊        | 203/1151 [00:55<04:12,  3.75it/s]\r 18%|█▊        | 204/1151 [00:55<04:06,  3.84it/s]\r 18%|█▊        | 205/1151 [00:55<03:57,  3.99it/s]\r 18%|█▊        | 206/1151 [00:55<03:57,  3.98it/s]\r 18%|█▊        | 207/1151 [00:56<04:10,  3.77it/s]\r 18%|█▊        | 208/1151 [00:56<04:04,  3.85it/s]\r 18%|█▊        | 209/1151 [00:56<03:54,  4.01it/s]\r 18%|█▊        | 210/1151 [00:56<03:47,  4.14it/s]\r 18%|█▊        | 211/1151 [00:56<03:41,  4.24it/s]\r 18%|█▊        | 212/1151 [00:57<03:44,  4.18it/s]\r 19%|█▊        | 213/1151 [00:57<03:45,  4.16it/s]\r 19%|█▊        | 214/1151 [00:57<04:04,  3.84it/s]\r 19%|█▊        | 215/1151 [00:58<04:09,  3.75it/s]\r 19%|█▉        | 216/1151 [00:58<04:11,  3.71it/s]\r 19%|█▉        | 217/1151 [00:58<04:32,  3.43it/s]\r 19%|█▉        | 218/1151 [00:58<04:27,  3.49it/s]\r 19%|█▉        | 219/1151 [00:59<04:28,  3.48it/s]\r 19%|█▉        | 220/1151 [00:59<04:17,  3.62it/s]\r 19%|█▉        | 221/1151 [00:59<04:06,  3.77it/s]\r 19%|█▉        | 222/1151 [01:00<04:14,  3.66it/s]\r 19%|█▉        | 223/1151 [01:00<04:00,  3.87it/s]\r 19%|█▉        | 224/1151 [01:00<03:56,  3.92it/s]\r 20%|█▉        | 225/1151 [01:00<03:53,  3.97it/s]\r 20%|█▉        | 226/1151 [01:00<03:53,  3.97it/s]\r 20%|█▉        | 227/1151 [01:01<03:51,  4.00it/s]\r 20%|█▉        | 228/1151 [01:01<03:50,  4.01it/s]\r 20%|█▉        | 229/1151 [01:01<04:03,  3.78it/s]\r 20%|█▉        | 230/1151 [01:02<04:22,  3.52it/s]\r 20%|██        | 231/1151 [01:02<04:26,  3.45it/s]\r 20%|██        | 232/1151 [01:02<04:21,  3.51it/s]\r 20%|██        | 233/1151 [01:02<04:31,  3.38it/s]\r 20%|██        | 234/1151 [01:03<04:18,  3.54it/s]\r 20%|██        | 235/1151 [01:03<04:10,  3.66it/s]\r 21%|██        | 236/1151 [01:03<04:08,  3.68it/s]\r 21%|██        | 237/1151 [01:04<04:27,  3.41it/s]\r 21%|██        | 238/1151 [01:04<04:37,  3.29it/s]\r 21%|██        | 239/1151 [01:04<04:36,  3.29it/s]\r 21%|██        | 240/1151 [01:05<04:36,  3.30it/s]\r 21%|██        | 241/1151 [01:05<04:37,  3.28it/s]\r 21%|██        | 242/1151 [01:05<04:22,  3.46it/s]\r 21%|██        | 243/1151 [01:05<04:18,  3.51it/s]\r 21%|██        | 244/1151 [01:06<04:01,  3.75it/s]\r 21%|██▏       | 245/1151 [01:06<03:49,  3.94it/s]\r 21%|██▏       | 246/1151 [01:06<03:36,  4.17it/s]\r 21%|██▏       | 247/1151 [01:06<03:33,  4.23it/s]\r 22%|██▏       | 248/1151 [01:06<03:31,  4.28it/s]\r 22%|██▏       | 249/1151 [01:07<03:28,  4.33it/s]\r 22%|██▏       | 250/1151 [01:07<03:21,  4.46it/s]\r 22%|██▏       | 251/1151 [01:07<03:28,  4.31it/s]\r 22%|██▏       | 252/1151 [01:07<03:33,  4.20it/s]\r 22%|██▏       | 253/1151 [01:08<03:55,  3.81it/s]\r 22%|██▏       | 254/1151 [01:08<03:50,  3.89it/s]\r 22%|██▏       | 255/1151 [01:08<03:54,  3.81it/s]\r 22%|██▏       | 256/1151 [01:09<03:49,  3.90it/s]\r 22%|██▏       | 257/1151 [01:09<03:45,  3.97it/s]\r 22%|██▏       | 258/1151 [01:09<03:37,  4.11it/s]\r 23%|██▎       | 259/1151 [01:09<03:32,  4.21it/s]\r 23%|██▎       | 260/1151 [01:09<03:35,  4.14it/s]\r 23%|██▎       | 261/1151 [01:10<03:32,  4.18it/s]\r 23%|██▎       | 262/1151 [01:10<03:42,  4.00it/s]\r 23%|██▎       | 263/1151 [01:10<03:42,  3.99it/s]\r 23%|██▎       | 264/1151 [01:10<03:41,  4.00it/s]\r 23%|██▎       | 265/1151 [01:11<04:08,  3.57it/s]\r 23%|██▎       | 266/1151 [01:11<04:16,  3.45it/s]\r 23%|██▎       | 267/1151 [01:11<04:05,  3.59it/s]\r 23%|██▎       | 268/1151 [01:12<04:11,  3.51it/s]\r 23%|██▎       | 269/1151 [01:12<04:15,  3.45it/s]\r 23%|██▎       | 270/1151 [01:12<04:23,  3.34it/s]\r 24%|██▎       | 271/1151 [01:13<04:24,  3.33it/s]\r 24%|██▎       | 272/1151 [01:13<04:12,  3.49it/s]\r 24%|██▎       | 273/1151 [01:13<04:11,  3.50it/s]\r 24%|██▍       | 274/1151 [01:13<04:01,  3.63it/s]\r 24%|██▍       | 275/1151 [01:14<04:01,  3.63it/s]\r 24%|██▍       | 276/1151 [01:14<04:06,  3.54it/s]\r 24%|██▍       | 277/1151 [01:14<04:09,  3.51it/s]\r 24%|██▍       | 278/1151 [01:15<04:06,  3.54it/s]\r 24%|██▍       | 279/1151 [01:15<03:57,  3.67it/s]\r 24%|██▍       | 280/1151 [01:15<03:50,  3.78it/s]\r 24%|██▍       | 281/1151 [01:15<03:50,  3.77it/s]\r 25%|██▍       | 282/1151 [01:16<03:45,  3.85it/s]\r 25%|██▍       | 283/1151 [01:16<03:54,  3.71it/s]\r 25%|██▍       | 284/1151 [01:16<04:14,  3.41it/s]\r 25%|██▍       | 285/1151 [01:17<04:23,  3.28it/s]\r 25%|██▍       | 286/1151 [01:17<04:22,  3.30it/s]\r 25%|██▍       | 287/1151 [01:17<04:17,  3.36it/s]\r 25%|██▌       | 288/1151 [01:17<04:23,  3.28it/s]\r 25%|██▌       | 289/1151 [01:18<03:55,  3.66it/s]\r 25%|██▌       | 290/1151 [01:18<03:47,  3.79it/s]\r 25%|██▌       | 291/1151 [01:18<03:44,  3.84it/s]\r 25%|██▌       | 292/1151 [01:18<03:41,  3.87it/s]\r 25%|██▌       | 293/1151 [01:19<03:33,  4.03it/s]\r 26%|██▌       | 294/1151 [01:19<03:32,  4.03it/s]\r 26%|██▌       | 295/1151 [01:19<03:45,  3.80it/s]\r 26%|██▌       | 296/1151 [01:19<03:46,  3.78it/s]\r 26%|██▌       | 297/1151 [01:20<03:41,  3.85it/s]\r 26%|██▌       | 298/1151 [01:20<03:52,  3.67it/s]\r 26%|██▌       | 299/1151 [01:20<03:58,  3.58it/s]\r 26%|██▌       | 300/1151 [01:21<04:03,  3.50it/s]\r 26%|██▌       | 301/1151 [01:21<04:05,  3.46it/s]\r 26%|██▌       | 302/1151 [01:21<03:55,  3.61it/s]\r 26%|██▋       | 303/1151 [01:21<04:02,  3.50it/s]\r 26%|██▋       | 304/1151 [01:22<04:04,  3.46it/s]\r 26%|██▋       | 305/1151 [01:22<04:01,  3.51it/s]\r 27%|██▋       | 306/1151 [01:22<03:59,  3.53it/s]\r 27%|██▋       | 307/1151 [01:23<04:03,  3.46it/s]\r 27%|██▋       | 308/1151 [01:23<04:02,  3.48it/s]\r 27%|██▋       | 309/1151 [01:23<03:54,  3.59it/s]\r 27%|██▋       | 310/1151 [01:23<03:45,  3.74it/s]\r 27%|██▋       | 311/1151 [01:24<03:44,  3.74it/s]\r 27%|██▋       | 312/1151 [01:24<03:46,  3.70it/s]\r 27%|██▋       | 313/1151 [01:24<03:40,  3.80it/s]\r 27%|██▋       | 314/1151 [01:24<03:37,  3.85it/s]\r 27%|██▋       | 315/1151 [01:25<03:37,  3.85it/s]\r 27%|██▋       | 316/1151 [01:25<03:41,  3.77it/s]\r 28%|██▊       | 317/1151 [01:25<03:32,  3.93it/s]\r 28%|██▊       | 318/1151 [01:25<03:27,  4.02it/s]\r 28%|██▊       | 319/1151 [01:26<03:37,  3.83it/s]\r 28%|██▊       | 320/1151 [01:26<03:42,  3.73it/s]\r 28%|██▊       | 321/1151 [01:26<03:49,  3.61it/s]\r 28%|██▊       | 322/1151 [01:26<03:31,  3.91it/s]\r 28%|██▊       | 323/1151 [01:27<03:19,  4.16it/s]\r 28%|██▊       | 324/1151 [01:27<03:21,  4.11it/s]\r 28%|██▊       | 325/1151 [01:27<03:17,  4.18it/s]\r 28%|██▊       | 326/1151 [01:27<03:34,  3.85it/s]\r 28%|██▊       | 327/1151 [01:28<03:26,  4.00it/s]\r 28%|██▊       | 328/1151 [01:28<03:14,  4.23it/s]\r 29%|██▊       | 329/1151 [01:28<03:12,  4.28it/s]\r 29%|██▊       | 330/1151 [01:28<03:10,  4.31it/s]\r 29%|██▉       | 331/1151 [01:29<03:09,  4.33it/s]\r 29%|██▉       | 332/1151 [01:29<03:19,  4.11it/s]\r 29%|██▉       | 333/1151 [01:29<03:13,  4.24it/s]\r 29%|██▉       | 334/1151 [01:29<03:20,  4.08it/s]\r 29%|██▉       | 335/1151 [01:30<03:24,  3.99it/s]\r 29%|██▉       | 336/1151 [01:30<03:27,  3.93it/s]\r 29%|██▉       | 337/1151 [01:30<03:11,  4.24it/s]\r 29%|██▉       | 338/1151 [01:30<03:13,  4.21it/s]\r 29%|██▉       | 339/1151 [01:31<03:19,  4.07it/s]\r 30%|██▉       | 340/1151 [01:31<03:20,  4.04it/s]\r 30%|██▉       | 341/1151 [01:31<03:26,  3.92it/s]\r 30%|██▉       | 342/1151 [01:31<03:30,  3.84it/s]\r 30%|██▉       | 343/1151 [01:32<03:39,  3.69it/s]\r 30%|██▉       | 344/1151 [01:32<03:55,  3.42it/s]\r 30%|██▉       | 345/1151 [01:32<03:51,  3.47it/s]\r 30%|███       | 346/1151 [01:33<03:42,  3.61it/s]\r 30%|███       | 347/1151 [01:33<03:48,  3.52it/s]\r 30%|███       | 348/1151 [01:33<03:45,  3.57it/s]\r 30%|███       | 349/1151 [01:33<03:49,  3.49it/s]\r 30%|███       | 350/1151 [01:34<03:45,  3.55it/s]\r 30%|███       | 351/1151 [01:34<03:48,  3.51it/s]\r 31%|███       | 352/1151 [01:34<03:49,  3.48it/s]\r 31%|███       | 353/1151 [01:35<03:48,  3.50it/s]\r 31%|███       | 354/1151 [01:35<03:44,  3.55it/s]\r 31%|███       | 355/1151 [01:35<03:36,  3.68it/s]\r 31%|███       | 356/1151 [01:35<03:41,  3.58it/s]\r 31%|███       | 357/1151 [01:36<03:53,  3.40it/s]\r 31%|███       | 358/1151 [01:36<03:54,  3.38it/s]\r 31%|███       | 359/1151 [01:36<03:56,  3.35it/s]\r 31%|███▏      | 360/1151 [01:37<03:49,  3.44it/s]\r 31%|███▏      | 361/1151 [01:37<03:57,  3.33it/s]\r 31%|███▏      | 362/1151 [01:37<04:14,  3.10it/s]\r 32%|███▏      | 363/1151 [01:38<04:08,  3.18it/s]\r 32%|███▏      | 364/1151 [01:38<04:11,  3.13it/s]\r 32%|███▏      | 365/1151 [01:38<04:11,  3.13it/s]\r 32%|███▏      | 366/1151 [01:38<03:42,  3.52it/s]\r 32%|███▏      | 367/1151 [01:39<03:46,  3.46it/s]\r 32%|███▏      | 368/1151 [01:39<03:36,  3.62it/s]\r 32%|███▏      | 369/1151 [01:39<03:35,  3.63it/s]\r 32%|███▏      | 370/1151 [01:39<03:30,  3.72it/s]\r 32%|███▏      | 371/1151 [01:40<03:26,  3.78it/s]\r 32%|███▏      | 372/1151 [01:40<03:17,  3.94it/s]\r 32%|███▏      | 373/1151 [01:40<03:21,  3.86it/s]\r 32%|███▏      | 374/1151 [01:40<03:19,  3.89it/s]\r 33%|███▎      | 375/1151 [01:41<03:17,  3.92it/s]\r 33%|███▎      | 376/1151 [01:41<03:22,  3.83it/s]\r 33%|███▎      | 377/1151 [01:41<03:24,  3.79it/s]\r 33%|███▎      | 378/1151 [01:41<03:15,  3.96it/s]\r 33%|███▎      | 379/1151 [01:42<03:10,  4.05it/s]\r 33%|███▎      | 380/1151 [01:42<03:04,  4.17it/s]\r 33%|███▎      | 381/1151 [01:42<03:08,  4.09it/s]\r 33%|███▎      | 382/1151 [01:42<03:10,  4.04it/s]\r 33%|███▎      | 383/1151 [01:43<03:18,  3.87it/s]\r 33%|███▎      | 384/1151 [01:43<03:17,  3.89it/s]\r 33%|███▎      | 385/1151 [01:43<03:19,  3.84it/s]\r 34%|███▎      | 386/1151 [01:44<03:14,  3.93it/s]\r 34%|███▎      | 387/1151 [01:44<03:07,  4.07it/s]\r 34%|███▎      | 388/1151 [01:44<03:14,  3.93it/s]\r 34%|███▍      | 389/1151 [01:44<03:12,  3.96it/s]\r 34%|███▍      | 390/1151 [01:44<03:10,  4.00it/s]\r 34%|███▍      | 391/1151 [01:45<03:23,  3.74it/s]\r 34%|███▍      | 392/1151 [01:45<03:40,  3.45it/s]\r 34%|███▍      | 393/1151 [01:45<03:42,  3.41it/s]\r 34%|███▍      | 394/1151 [01:46<03:26,  3.67it/s]\r 34%|███▍      | 395/1151 [01:46<03:41,  3.42it/s]\r 34%|███▍      | 396/1151 [01:46<03:33,  3.53it/s]\r 34%|███▍      | 397/1151 [01:47<03:40,  3.42it/s]\r 35%|███▍      | 398/1151 [01:47<03:35,  3.49it/s]\r 35%|███▍      | 399/1151 [01:47<03:31,  3.56it/s]\r 35%|███▍      | 400/1151 [01:47<03:39,  3.42it/s]\r 35%|███▍      | 401/1151 [01:48<03:34,  3.49it/s]\r 35%|███▍      | 402/1151 [01:48<03:18,  3.77it/s]\r 35%|███▌      | 403/1151 [01:48<03:34,  3.48it/s]\r 35%|███▌      | 404/1151 [01:49<03:30,  3.54it/s]\r 35%|███▌      | 405/1151 [01:49<03:21,  3.70it/s]\r 35%|███▌      | 406/1151 [01:49<03:26,  3.61it/s]\r 35%|███▌      | 407/1151 [01:49<03:23,  3.65it/s]\r 35%|███▌      | 408/1151 [01:50<03:19,  3.72it/s]\r 36%|███▌      | 409/1151 [01:50<03:21,  3.68it/s]\r 36%|███▌      | 410/1151 [01:50<03:22,  3.65it/s]\r 36%|███▌      | 411/1151 [01:50<03:22,  3.65it/s]\r 36%|███▌      | 412/1151 [01:51<03:10,  3.87it/s]\r 36%|███▌      | 413/1151 [01:51<03:06,  3.95it/s]\r 36%|███▌      | 414/1151 [01:51<02:59,  4.10it/s]\r 36%|███▌      | 415/1151 [01:51<02:54,  4.22it/s]\r 36%|███▌      | 416/1151 [01:52<02:46,  4.42it/s]\r 36%|███▌      | 417/1151 [01:52<02:45,  4.43it/s]\r 36%|███▋      | 418/1151 [01:52<02:50,  4.29it/s]\r 36%|███▋      | 419/1151 [01:52<02:53,  4.22it/s]\r 36%|███▋      | 420/1151 [01:53<03:01,  4.02it/s]\r 37%|███▋      | 421/1151 [01:53<03:06,  3.91it/s]\r 37%|███▋      | 422/1151 [01:53<03:10,  3.83it/s]\r 37%|███▋      | 423/1151 [01:53<03:02,  4.00it/s]\r 37%|███▋      | 424/1151 [01:54<02:54,  4.16it/s]\r 37%|███▋      | 425/1151 [01:54<03:05,  3.91it/s]\r 37%|███▋      | 426/1151 [01:54<03:06,  3.89it/s]\r 37%|███▋      | 427/1151 [01:54<02:57,  4.09it/s]\r 37%|███▋      | 428/1151 [01:55<03:08,  3.84it/s]\r 37%|███▋      | 429/1151 [01:55<03:16,  3.67it/s]\r 37%|███▋      | 430/1151 [01:55<03:27,  3.48it/s]\r 37%|███▋      | 431/1151 [01:55<03:17,  3.65it/s]\r 38%|███▊      | 432/1151 [01:56<03:21,  3.56it/s]\r 38%|███▊      | 433/1151 [01:56<03:20,  3.57it/s]\r 38%|███▊      | 434/1151 [01:56<03:23,  3.52it/s]\r 38%|███▊      | 435/1151 [01:57<03:33,  3.35it/s]\r 38%|███▊      | 436/1151 [01:57<03:29,  3.41it/s]\r 38%|███▊      | 437/1151 [01:57<03:25,  3.47it/s]\r 38%|███▊      | 438/1151 [01:57<03:22,  3.52it/s]\r 38%|███▊      | 439/1151 [01:58<03:05,  3.84it/s]\r 38%|███▊      | 440/1151 [01:58<03:14,  3.66it/s]\r 38%|███▊      | 441/1151 [01:58<03:04,  3.85it/s]\r 38%|███▊      | 442/1151 [01:58<03:05,  3.82it/s]\r 38%|███▊      | 443/1151 [01:59<03:12,  3.67it/s]\r 39%|███▊      | 444/1151 [01:59<03:16,  3.60it/s]\r 39%|███▊      | 445/1151 [01:59<03:08,  3.75it/s]\r 39%|███▊      | 446/1151 [02:00<03:08,  3.74it/s]\r 39%|███▉      | 447/1151 [02:00<03:23,  3.45it/s]\r 39%|███▉      | 448/1151 [02:00<03:26,  3.41it/s]\r 39%|███▉      | 449/1151 [02:00<03:16,  3.57it/s]\r 39%|███▉      | 450/1151 [02:01<03:18,  3.52it/s]\r 39%|███▉      | 451/1151 [02:01<03:12,  3.64it/s]\r 39%|███▉      | 452/1151 [02:01<03:12,  3.64it/s]\r 39%|███▉      | 453/1151 [02:02<03:06,  3.75it/s]\r 39%|███▉      | 454/1151 [02:02<02:58,  3.90it/s]\r 40%|███▉      | 455/1151 [02:02<02:57,  3.92it/s]\r 40%|███▉      | 456/1151 [02:02<02:49,  4.09it/s]\r 40%|███▉      | 457/1151 [02:03<02:50,  4.07it/s]\r 40%|███▉      | 458/1151 [02:03<03:01,  3.81it/s]\r 40%|███▉      | 459/1151 [02:03<02:54,  3.96it/s]\r 40%|███▉      | 460/1151 [02:03<03:00,  3.82it/s]\r 40%|████      | 461/1151 [02:04<02:57,  3.89it/s]\r 40%|████      | 462/1151 [02:04<02:55,  3.93it/s]\r 40%|████      | 463/1151 [02:04<02:57,  3.88it/s]\r 40%|████      | 464/1151 [02:04<03:11,  3.59it/s]\r 40%|████      | 465/1151 [02:05<03:14,  3.53it/s]\r 40%|████      | 466/1151 [02:05<03:06,  3.66it/s]\r 41%|████      | 467/1151 [02:05<03:02,  3.75it/s]\r 41%|████      | 468/1151 [02:05<02:59,  3.81it/s]\r 41%|████      | 469/1151 [02:06<02:52,  3.96it/s]\r 41%|████      | 470/1151 [02:06<02:56,  3.86it/s]\r 41%|████      | 471/1151 [02:06<02:55,  3.87it/s]\r 41%|████      | 472/1151 [02:06<02:50,  3.98it/s]\r 41%|████      | 473/1151 [02:07<02:41,  4.19it/s]\r 41%|████      | 474/1151 [02:07<02:49,  3.99it/s]\r 41%|████▏     | 475/1151 [02:07<02:45,  4.08it/s]\r 41%|████▏     | 476/1151 [02:07<02:46,  4.05it/s]\r 41%|████▏     | 477/1151 [02:08<02:43,  4.12it/s]\r 42%|████▏     | 478/1151 [02:08<02:35,  4.32it/s]\r 42%|████▏     | 479/1151 [02:08<02:35,  4.32it/s]\r 42%|████▏     | 480/1151 [02:08<02:45,  4.06it/s]\r 42%|████▏     | 481/1151 [02:09<02:41,  4.16it/s]\r 42%|████▏     | 482/1151 [02:09<02:37,  4.25it/s]\r 42%|████▏     | 483/1151 [02:09<02:40,  4.17it/s]\r 42%|████▏     | 484/1151 [02:09<02:37,  4.22it/s]\r 42%|████▏     | 485/1151 [02:10<02:48,  3.96it/s]\r 42%|████▏     | 486/1151 [02:10<02:45,  4.03it/s]\r 42%|████▏     | 487/1151 [02:10<02:41,  4.11it/s]\r 42%|████▏     | 488/1151 [02:10<02:40,  4.12it/s]\r 42%|████▏     | 489/1151 [02:11<02:49,  3.91it/s]\r 43%|████▎     | 490/1151 [02:11<02:42,  4.06it/s]\r 43%|████▎     | 491/1151 [02:11<02:42,  4.05it/s]\r 43%|████▎     | 492/1151 [02:11<02:37,  4.19it/s]\r 43%|████▎     | 493/1151 [02:12<02:35,  4.23it/s]\r 43%|████▎     | 494/1151 [02:12<02:44,  4.00it/s]\r 43%|████▎     | 495/1151 [02:12<02:44,  3.98it/s]\r 43%|████▎     | 496/1151 [02:12<02:39,  4.10it/s]\r 43%|████▎     | 497/1151 [02:13<02:50,  3.83it/s]\r 43%|████▎     | 498/1151 [02:13<02:53,  3.76it/s]\r 43%|████▎     | 499/1151 [02:13<02:54,  3.73it/s]\r 43%|████▎     | 500/1151 [02:13<03:02,  3.57it/s]\r 44%|████▎     | 501/1151 [02:14<02:58,  3.65it/s]\r 44%|████▎     | 502/1151 [02:14<02:57,  3.67it/s]\r 44%|████▎     | 503/1151 [02:14<02:56,  3.68it/s]\r 44%|████▍     | 504/1151 [02:15<02:56,  3.66it/s]\r 44%|████▍     | 505/1151 [02:15<03:11,  3.37it/s]\r 44%|████▍     | 506/1151 [02:15<02:56,  3.65it/s]\r 44%|████▍     | 507/1151 [02:15<03:02,  3.53it/s]\r 44%|████▍     | 508/1151 [02:16<03:15,  3.29it/s]\r 44%|████▍     | 509/1151 [02:16<03:10,  3.37it/s]\r 44%|████▍     | 510/1151 [02:16<03:15,  3.28it/s]\r 44%|████▍     | 511/1151 [02:17<03:36,  2.96it/s]\r 44%|████▍     | 512/1151 [02:17<03:17,  3.23it/s]\r 45%|████▍     | 513/1151 [02:17<03:11,  3.34it/s]\r 45%|████▍     | 514/1151 [02:18<03:10,  3.34it/s]\r 45%|████▍     | 515/1151 [02:18<03:19,  3.19it/s]\r 45%|████▍     | 516/1151 [02:18<03:05,  3.42it/s]\r 45%|████▍     | 517/1151 [02:18<03:09,  3.34it/s]\r 45%|████▌     | 518/1151 [02:19<03:04,  3.43it/s]\r 45%|████▌     | 519/1151 [02:19<02:54,  3.61it/s]\r 45%|████▌     | 520/1151 [02:19<02:53,  3.63it/s]\r 45%|████▌     | 521/1151 [02:20<02:58,  3.52it/s]\r 45%|████▌     | 522/1151 [02:20<03:06,  3.37it/s]\r 45%|████▌     | 523/1151 [02:20<03:03,  3.42it/s]\r 46%|████▌     | 524/1151 [02:20<02:58,  3.50it/s]\r 46%|████▌     | 525/1151 [02:21<02:56,  3.54it/s]\r 46%|████▌     | 526/1151 [02:21<02:57,  3.51it/s]\r 46%|████▌     | 527/1151 [02:21<03:10,  3.28it/s]\r 46%|████▌     | 528/1151 [02:22<03:14,  3.21it/s]\r 46%|████▌     | 529/1151 [02:22<03:05,  3.36it/s]\r 46%|████▌     | 530/1151 [02:22<03:09,  3.28it/s]\r 46%|████▌     | 531/1151 [02:23<03:07,  3.31it/s]\r 46%|████▌     | 532/1151 [02:23<02:59,  3.44it/s]\r 46%|████▋     | 533/1151 [02:23<02:51,  3.61it/s]\r 46%|████▋     | 534/1151 [02:23<02:40,  3.84it/s]\r 46%|████▋     | 535/1151 [02:24<02:33,  4.02it/s]\r 47%|████▋     | 536/1151 [02:24<02:31,  4.07it/s]\r 47%|████▋     | 537/1151 [02:24<02:21,  4.33it/s]\r 47%|████▋     | 538/1151 [02:24<02:23,  4.26it/s]\r 47%|████▋     | 539/1151 [02:24<02:24,  4.25it/s]\r 47%|████▋     | 540/1151 [02:25<02:31,  4.02it/s]\r 47%|████▋     | 541/1151 [02:25<02:36,  3.90it/s]\r 47%|████▋     | 542/1151 [02:25<02:33,  3.96it/s]\r 47%|████▋     | 543/1151 [02:25<02:33,  3.97it/s]\r 47%|████▋     | 544/1151 [02:26<02:35,  3.91it/s]\r 47%|████▋     | 545/1151 [02:26<02:37,  3.86it/s]\r 47%|████▋     | 546/1151 [02:26<02:38,  3.81it/s]\r 48%|████▊     | 547/1151 [02:27<02:44,  3.67it/s]\r 48%|████▊     | 548/1151 [02:27<02:43,  3.68it/s]\r 48%|████▊     | 549/1151 [02:27<02:44,  3.66it/s]\r 48%|████▊     | 550/1151 [02:27<02:35,  3.86it/s]\r 48%|████▊     | 551/1151 [02:28<02:43,  3.67it/s]\r 48%|████▊     | 552/1151 [02:28<02:43,  3.66it/s]\r 48%|████▊     | 553/1151 [02:28<02:43,  3.65it/s]\r 48%|████▊     | 554/1151 [02:28<02:37,  3.78it/s]\r 48%|████▊     | 555/1151 [02:29<02:33,  3.88it/s]\r 48%|████▊     | 556/1151 [02:29<02:34,  3.84it/s]\r 48%|████▊     | 557/1151 [02:29<02:24,  4.12it/s]\r 48%|████▊     | 558/1151 [02:29<02:20,  4.21it/s]\r 49%|████▊     | 559/1151 [02:30<02:21,  4.18it/s]\r 49%|████▊     | 560/1151 [02:30<02:27,  4.00it/s]\r 49%|████▊     | 561/1151 [02:30<02:22,  4.13it/s]\r 49%|████▉     | 562/1151 [02:30<02:23,  4.10it/s]\r 49%|████▉     | 563/1151 [02:31<02:27,  3.99it/s]\r 49%|████▉     | 564/1151 [02:31<02:22,  4.12it/s]\r 49%|████▉     | 565/1151 [02:31<02:31,  3.86it/s]\r 49%|████▉     | 566/1151 [02:31<02:34,  3.78it/s]\r 49%|████▉     | 567/1151 [02:32<02:30,  3.87it/s]\r 49%|████▉     | 568/1151 [02:32<02:36,  3.72it/s]\r 49%|████▉     | 569/1151 [02:32<02:37,  3.71it/s]\r 50%|████▉     | 570/1151 [02:33<02:36,  3.71it/s]\r 50%|████▉     | 571/1151 [02:33<02:31,  3.83it/s]\r 50%|████▉     | 572/1151 [02:33<02:32,  3.80it/s]\r 50%|████▉     | 573/1151 [02:33<02:26,  3.95it/s]\r 50%|████▉     | 574/1151 [02:33<02:21,  4.09it/s]\r 50%|████▉     | 575/1151 [02:34<02:21,  4.07it/s]\r 50%|█████     | 576/1151 [02:34<02:16,  4.21it/s]\r 50%|█████     | 577/1151 [02:34<02:25,  3.94it/s]\r 50%|█████     | 578/1151 [02:35<02:25,  3.95it/s]\r 50%|█████     | 579/1151 [02:35<02:27,  3.87it/s]\r 50%|█████     | 580/1151 [02:35<02:29,  3.82it/s]\r 50%|█████     | 581/1151 [02:35<02:35,  3.65it/s]\r 51%|█████     | 582/1151 [02:36<02:40,  3.55it/s]\r 51%|█████     | 583/1151 [02:36<02:39,  3.57it/s]\r 51%|█████     | 584/1151 [02:36<02:36,  3.62it/s]\r 51%|█████     | 585/1151 [02:37<02:43,  3.45it/s]\r 51%|█████     | 586/1151 [02:37<02:40,  3.53it/s]\r 51%|█████     | 587/1151 [02:37<02:32,  3.70it/s]\r 51%|█████     | 588/1151 [02:37<02:23,  3.92it/s]\r 51%|█████     | 589/1151 [02:37<02:21,  3.97it/s]\r 51%|█████▏    | 590/1151 [02:38<02:29,  3.74it/s]\r 51%|█████▏    | 591/1151 [02:38<02:26,  3.81it/s]\r 51%|█████▏    | 592/1151 [02:38<02:28,  3.76it/s]\r 52%|█████▏    | 593/1151 [02:39<02:43,  3.42it/s]\r 52%|█████▏    | 594/1151 [02:39<02:44,  3.38it/s]\r 52%|█████▏    | 595/1151 [02:39<02:54,  3.19it/s]\r 52%|█████▏    | 596/1151 [02:40<02:48,  3.29it/s]\r 52%|█████▏    | 597/1151 [02:40<02:39,  3.46it/s]\r 52%|█████▏    | 598/1151 [02:40<02:46,  3.32it/s]\r 52%|█████▏    | 599/1151 [02:40<02:45,  3.34it/s]\r 52%|█████▏    | 600/1151 [02:41<02:43,  3.38it/s]\r 52%|█████▏    | 601/1151 [02:41<02:44,  3.35it/s]\r 52%|█████▏    | 602/1151 [02:41<02:33,  3.57it/s]\r 52%|█████▏    | 603/1151 [02:42<02:32,  3.60it/s]\r 52%|█████▏    | 604/1151 [02:42<02:28,  3.69it/s]\r 53%|█████▎    | 605/1151 [02:42<02:25,  3.76it/s]\r 53%|█████▎    | 606/1151 [02:42<02:24,  3.77it/s]\r 53%|█████▎    | 607/1151 [02:43<02:18,  3.94it/s]\r 53%|█████▎    | 608/1151 [02:43<02:22,  3.81it/s]\r 53%|█████▎    | 609/1151 [02:43<02:17,  3.95it/s]\r 53%|█████▎    | 610/1151 [02:43<02:17,  3.95it/s]\r 53%|█████▎    | 611/1151 [02:44<02:17,  3.92it/s]\r 53%|█████▎    | 612/1151 [02:44<02:13,  4.03it/s]\r 53%|█████▎    | 613/1151 [02:44<02:10,  4.13it/s]\r 53%|█████▎    | 614/1151 [02:44<02:12,  4.04it/s]\r 53%|█████▎    | 615/1151 [02:45<02:10,  4.11it/s]\r 54%|█████▎    | 616/1151 [02:45<02:11,  4.06it/s]\r 54%|█████▎    | 617/1151 [02:45<02:07,  4.18it/s]\r 54%|█████▎    | 618/1151 [02:45<02:04,  4.28it/s]\r 54%|█████▍    | 619/1151 [02:46<02:11,  4.06it/s]\r 54%|█████▍    | 620/1151 [02:46<02:14,  3.94it/s]\r 54%|█████▍    | 621/1151 [02:46<02:22,  3.71it/s]\r 54%|█████▍    | 622/1151 [02:46<02:19,  3.79it/s]\r 54%|█████▍    | 623/1151 [02:47<02:18,  3.82it/s]\r 54%|█████▍    | 624/1151 [02:47<02:17,  3.83it/s]\r 54%|█████▍    | 625/1151 [02:47<02:12,  3.96it/s]\r 54%|█████▍    | 626/1151 [02:47<02:09,  4.05it/s]\r 54%|█████▍    | 627/1151 [02:48<02:06,  4.13it/s]\r 55%|█████▍    | 628/1151 [02:48<02:15,  3.86it/s]\r 55%|█████▍    | 629/1151 [02:48<02:11,  3.97it/s]\r 55%|█████▍    | 630/1151 [02:48<02:18,  3.76it/s]\r 55%|█████▍    | 631/1151 [02:49<02:20,  3.70it/s]\r 55%|█████▍    | 632/1151 [02:49<02:15,  3.84it/s]\r 55%|█████▍    | 633/1151 [02:49<02:14,  3.85it/s]\r 55%|█████▌    | 634/1151 [02:49<02:08,  4.02it/s]\r 55%|█████▌    | 635/1151 [02:50<02:14,  3.82it/s]\r 55%|█████▌    | 636/1151 [02:50<02:14,  3.84it/s]\r 55%|█████▌    | 637/1151 [02:50<02:12,  3.87it/s]\r 55%|█████▌    | 638/1151 [02:50<02:14,  3.82it/s]\r 56%|█████▌    | 639/1151 [02:51<02:05,  4.10it/s]\r 56%|█████▌    | 640/1151 [02:51<02:05,  4.07it/s]\r 56%|█████▌    | 641/1151 [02:51<02:07,  4.00it/s]\r 56%|█████▌    | 642/1151 [02:51<02:08,  3.95it/s]\r 56%|█████▌    | 643/1151 [02:52<02:13,  3.81it/s]\r 56%|█████▌    | 644/1151 [02:52<02:11,  3.85it/s]\r 56%|█████▌    | 645/1151 [02:52<02:12,  3.83it/s]\r 56%|█████▌    | 646/1151 [02:53<02:13,  3.79it/s]\r 56%|█████▌    | 647/1151 [02:53<02:10,  3.88it/s]\r 56%|█████▋    | 648/1151 [02:53<02:05,  4.02it/s]\r 56%|█████▋    | 649/1151 [02:53<02:05,  4.00it/s]\r 56%|█████▋    | 650/1151 [02:54<02:12,  3.78it/s]\r 57%|█████▋    | 651/1151 [02:54<02:11,  3.82it/s]\r 57%|█████▋    | 652/1151 [02:54<02:09,  3.84it/s]\r 57%|█████▋    | 653/1151 [02:54<02:08,  3.88it/s]\r 57%|█████▋    | 654/1151 [02:55<02:15,  3.67it/s]\r 57%|█████▋    | 655/1151 [02:55<02:09,  3.83it/s]\r 57%|█████▋    | 656/1151 [02:55<02:07,  3.89it/s]\r 57%|█████▋    | 657/1151 [02:55<02:02,  4.04it/s]\r 57%|█████▋    | 658/1151 [02:56<02:05,  3.92it/s]\r 57%|█████▋    | 659/1151 [02:56<02:08,  3.84it/s]\r 57%|█████▋    | 660/1151 [02:56<02:06,  3.88it/s]\r 57%|█████▋    | 661/1151 [02:56<02:11,  3.73it/s]\r 58%|█████▊    | 662/1151 [02:57<02:05,  3.90it/s]\r 58%|█████▊    | 663/1151 [02:57<02:01,  4.00it/s]\r 58%|█████▊    | 664/1151 [02:57<02:02,  3.97it/s]\r 58%|█████▊    | 665/1151 [02:57<02:00,  4.04it/s]\r 58%|█████▊    | 666/1151 [02:58<02:01,  4.00it/s]\r 58%|█████▊    | 667/1151 [02:58<02:00,  4.00it/s]\r 58%|█████▊    | 668/1151 [02:58<01:58,  4.09it/s]\r 58%|█████▊    | 669/1151 [02:58<01:58,  4.07it/s]\r 58%|█████▊    | 670/1151 [02:59<01:54,  4.19it/s]\r 58%|█████▊    | 671/1151 [02:59<01:53,  4.23it/s]\r 58%|█████▊    | 672/1151 [02:59<02:06,  3.78it/s]\r 58%|█████▊    | 673/1151 [02:59<02:09,  3.69it/s]\r 59%|█████▊    | 674/1151 [03:00<02:11,  3.63it/s]\r 59%|█████▊    | 675/1151 [03:00<02:11,  3.61it/s]\r 59%|█████▊    | 676/1151 [03:00<02:19,  3.41it/s]\r 59%|█████▉    | 677/1151 [03:01<02:17,  3.45it/s]\r 59%|█████▉    | 678/1151 [03:01<02:19,  3.38it/s]\r 59%|█████▉    | 679/1151 [03:01<02:14,  3.52it/s]\r 59%|█████▉    | 680/1151 [03:01<02:07,  3.71it/s]\r 59%|█████▉    | 681/1151 [03:02<02:05,  3.75it/s]\r 59%|█████▉    | 682/1151 [03:02<02:14,  3.49it/s]\r 59%|█████▉    | 683/1151 [03:02<02:18,  3.38it/s]\r 59%|█████▉    | 684/1151 [03:03<02:20,  3.32it/s]\r 60%|█████▉    | 685/1151 [03:03<02:24,  3.22it/s]\r 60%|█████▉    | 686/1151 [03:03<02:27,  3.15it/s]\r 60%|█████▉    | 687/1151 [03:04<02:25,  3.18it/s]\r 60%|█████▉    | 688/1151 [03:04<02:26,  3.15it/s]\r 60%|█████▉    | 689/1151 [03:04<02:31,  3.05it/s]\r 60%|█████▉    | 690/1151 [03:05<02:41,  2.85it/s]\r 60%|██████    | 691/1151 [03:05<02:41,  2.85it/s]\r 60%|██████    | 692/1151 [03:05<02:39,  2.88it/s]\r 60%|██████    | 693/1151 [03:06<02:36,  2.92it/s]\r 60%|██████    | 694/1151 [03:06<02:28,  3.08it/s]\r 60%|██████    | 695/1151 [03:06<02:26,  3.12it/s]\r 60%|██████    | 696/1151 [03:07<02:24,  3.15it/s]\r 61%|██████    | 697/1151 [03:07<02:22,  3.18it/s]\r 61%|██████    | 698/1151 [03:07<02:25,  3.11it/s]\r 61%|██████    | 699/1151 [03:08<02:30,  3.01it/s]\r 61%|██████    | 700/1151 [03:08<02:31,  2.98it/s]\r 61%|██████    | 701/1151 [03:08<02:28,  3.04it/s]\r 61%|██████    | 702/1151 [03:09<02:29,  3.01it/s]\r 61%|██████    | 703/1151 [03:09<02:19,  3.21it/s]\r 61%|██████    | 704/1151 [03:09<02:35,  2.88it/s]\r 61%|██████▏   | 705/1151 [03:10<02:49,  2.62it/s]\r 61%|██████▏   | 706/1151 [03:10<02:47,  2.66it/s]\r 61%|██████▏   | 707/1151 [03:10<02:43,  2.72it/s]\r 62%|██████▏   | 708/1151 [03:11<02:28,  2.99it/s]\r 62%|██████▏   | 709/1151 [03:11<02:24,  3.05it/s]\r 62%|██████▏   | 710/1151 [03:11<02:22,  3.09it/s]\r 62%|██████▏   | 711/1151 [03:12<02:12,  3.32it/s]\r 62%|██████▏   | 712/1151 [03:12<02:06,  3.46it/s]\r 62%|██████▏   | 713/1151 [03:12<02:04,  3.52it/s]\r 62%|██████▏   | 714/1151 [03:12<02:03,  3.53it/s]\r 62%|██████▏   | 715/1151 [03:13<02:00,  3.62it/s]\r 62%|██████▏   | 716/1151 [03:13<01:53,  3.85it/s]\r 62%|██████▏   | 717/1151 [03:13<02:00,  3.61it/s]\r 62%|██████▏   | 718/1151 [03:14<02:06,  3.42it/s]\r 62%|██████▏   | 719/1151 [03:14<02:11,  3.29it/s]\r 63%|██████▎   | 720/1151 [03:14<02:13,  3.23it/s]\r 63%|██████▎   | 721/1151 [03:14<02:08,  3.36it/s]\r 63%|██████▎   | 722/1151 [03:15<02:04,  3.43it/s]\r 63%|██████▎   | 723/1151 [03:15<01:59,  3.59it/s]\r 63%|██████▎   | 724/1151 [03:15<01:55,  3.70it/s]\r 63%|██████▎   | 725/1151 [03:16<01:56,  3.66it/s]\r 63%|██████▎   | 726/1151 [03:16<01:53,  3.75it/s]\r 63%|██████▎   | 727/1151 [03:16<02:00,  3.51it/s]\r 63%|██████▎   | 728/1151 [03:16<01:55,  3.67it/s]\r 63%|██████▎   | 729/1151 [03:17<02:01,  3.48it/s]\r 63%|██████▎   | 730/1151 [03:17<01:52,  3.73it/s]\r 64%|██████▎   | 731/1151 [03:17<01:50,  3.81it/s]\r 64%|██████▎   | 732/1151 [03:17<01:56,  3.60it/s]\r 64%|██████▎   | 733/1151 [03:18<02:02,  3.42it/s]\r 64%|██████▍   | 734/1151 [03:18<01:58,  3.52it/s]\r 64%|██████▍   | 735/1151 [03:18<02:04,  3.34it/s]\r 64%|██████▍   | 736/1151 [03:19<02:08,  3.23it/s]\r 64%|██████▍   | 737/1151 [03:19<02:00,  3.45it/s]\r 64%|██████▍   | 738/1151 [03:19<01:54,  3.61it/s]\r 64%|██████▍   | 739/1151 [03:19<01:45,  3.92it/s]\r 64%|██████▍   | 740/1151 [03:20<01:44,  3.93it/s]\r 64%|██████▍   | 741/1151 [03:20<01:44,  3.93it/s]\r 64%|██████▍   | 742/1151 [03:20<01:44,  3.92it/s]\r 65%|██████▍   | 743/1151 [03:20<01:43,  3.94it/s]\r 65%|██████▍   | 744/1151 [03:21<01:36,  4.21it/s]\r 65%|██████▍   | 745/1151 [03:21<01:35,  4.27it/s]\r 65%|██████▍   | 746/1151 [03:21<01:36,  4.20it/s]\r 65%|██████▍   | 747/1151 [03:21<01:47,  3.77it/s]\r 65%|██████▍   | 748/1151 [03:22<01:53,  3.54it/s]\r 65%|██████▌   | 749/1151 [03:22<02:10,  3.07it/s]\r 65%|██████▌   | 750/1151 [03:22<02:07,  3.15it/s]\r 65%|██████▌   | 751/1151 [03:23<01:59,  3.35it/s]\r 65%|██████▌   | 752/1151 [03:23<01:50,  3.61it/s]\r 65%|██████▌   | 753/1151 [03:23<01:49,  3.64it/s]\r 66%|██████▌   | 754/1151 [03:24<01:49,  3.64it/s]\r 66%|██████▌   | 755/1151 [03:24<01:43,  3.82it/s]\r 66%|██████▌   | 756/1151 [03:24<01:40,  3.93it/s]\r 66%|██████▌   | 757/1151 [03:24<01:42,  3.83it/s]\r 66%|██████▌   | 758/1151 [03:24<01:39,  3.95it/s]\r 66%|██████▌   | 759/1151 [03:25<01:36,  4.08it/s]\r 66%|██████▌   | 760/1151 [03:25<01:33,  4.18it/s]\r 66%|██████▌   | 761/1151 [03:25<01:34,  4.13it/s]\r 66%|██████▌   | 762/1151 [03:25<01:32,  4.21it/s]\r 66%|██████▋   | 763/1151 [03:26<01:37,  3.97it/s]\r 66%|██████▋   | 764/1151 [03:26<01:44,  3.71it/s]\r 66%|██████▋   | 765/1151 [03:26<01:42,  3.78it/s]\r 67%|██████▋   | 766/1151 [03:26<01:37,  3.95it/s]\r 67%|██████▋   | 767/1151 [03:27<01:42,  3.74it/s]\r 67%|██████▋   | 768/1151 [03:27<01:45,  3.63it/s]\r 67%|██████▋   | 769/1151 [03:27<01:48,  3.51it/s]\r 67%|██████▋   | 770/1151 [03:28<01:47,  3.56it/s]\r 67%|██████▋   | 771/1151 [03:28<01:46,  3.55it/s]\r 67%|██████▋   | 772/1151 [03:28<01:43,  3.67it/s]\r 67%|██████▋   | 773/1151 [03:29<01:47,  3.52it/s]\r 67%|██████▋   | 774/1151 [03:29<01:45,  3.56it/s]\r 67%|██████▋   | 775/1151 [03:29<01:42,  3.67it/s]\r 67%|██████▋   | 776/1151 [03:29<01:43,  3.64it/s]\r 68%|██████▊   | 777/1151 [03:30<01:37,  3.83it/s]\r 68%|██████▊   | 778/1151 [03:30<01:35,  3.89it/s]\r 68%|██████▊   | 779/1151 [03:30<01:40,  3.71it/s]\r 68%|██████▊   | 780/1151 [03:30<01:38,  3.78it/s]\r 68%|██████▊   | 781/1151 [03:31<01:36,  3.84it/s]\r 68%|██████▊   | 782/1151 [03:31<01:37,  3.80it/s]\r 68%|██████▊   | 783/1151 [03:31<01:35,  3.86it/s]\r 68%|██████▊   | 784/1151 [03:31<01:33,  3.93it/s]\r 68%|██████▊   | 785/1151 [03:32<01:29,  4.07it/s]\r 68%|██████▊   | 786/1151 [03:32<01:27,  4.17it/s]\r 68%|██████▊   | 787/1151 [03:32<01:25,  4.25it/s]\r 68%|██████▊   | 788/1151 [03:32<01:23,  4.33it/s]\r 69%|██████▊   | 789/1151 [03:32<01:23,  4.34it/s]\r 69%|██████▊   | 790/1151 [03:33<01:27,  4.10it/s]\r 69%|██████▊   | 791/1151 [03:33<01:30,  3.97it/s]\r 69%|██████▉   | 792/1151 [03:33<01:30,  3.98it/s]\r 69%|██████▉   | 793/1151 [03:34<01:32,  3.86it/s]\r 69%|██████▉   | 794/1151 [03:34<01:34,  3.79it/s]\r 69%|██████▉   | 795/1151 [03:34<01:35,  3.74it/s]\r 69%|██████▉   | 796/1151 [03:34<01:37,  3.63it/s]\r 69%|██████▉   | 797/1151 [03:35<01:34,  3.73it/s]\r 69%|██████▉   | 798/1151 [03:35<01:35,  3.70it/s]\r 69%|██████▉   | 799/1151 [03:35<01:32,  3.80it/s]\r 70%|██████▉   | 800/1151 [03:35<01:35,  3.66it/s]\r 70%|██████▉   | 801/1151 [03:36<01:37,  3.59it/s]\r 70%|██████▉   | 802/1151 [03:36<01:33,  3.73it/s]\r 70%|██████▉   | 803/1151 [03:36<01:30,  3.85it/s]\r 70%|██████▉   | 804/1151 [03:37<01:32,  3.75it/s]\r 70%|██████▉   | 805/1151 [03:37<01:27,  3.95it/s]\r 70%|███████   | 806/1151 [03:37<01:29,  3.86it/s]\r 70%|███████   | 807/1151 [03:37<01:35,  3.60it/s]\r 70%|███████   | 808/1151 [03:38<01:34,  3.61it/s]\r 70%|███████   | 809/1151 [03:38<01:31,  3.76it/s]\r 70%|███████   | 810/1151 [03:38<01:31,  3.71it/s]\r 70%|███████   | 811/1151 [03:38<01:29,  3.81it/s]\r 71%|███████   | 812/1151 [03:39<01:32,  3.68it/s]\r 71%|███████   | 813/1151 [03:39<01:29,  3.80it/s]\r 71%|███████   | 814/1151 [03:39<01:29,  3.78it/s]\r 71%|███████   | 815/1151 [03:39<01:24,  3.98it/s]\r 71%|███████   | 816/1151 [03:40<01:21,  4.12it/s]\r 71%|███████   | 817/1151 [03:40<01:20,  4.13it/s]\r 71%|███████   | 818/1151 [03:40<01:26,  3.87it/s]\r 71%|███████   | 819/1151 [03:40<01:27,  3.81it/s]\r 71%|███████   | 820/1151 [03:41<01:30,  3.65it/s]\r 71%|███████▏  | 821/1151 [03:41<01:30,  3.65it/s]\r 71%|███████▏  | 822/1151 [03:41<01:27,  3.76it/s]\r 72%|███████▏  | 823/1151 [03:42<01:25,  3.84it/s]\r 72%|███████▏  | 824/1151 [03:42<01:26,  3.79it/s]\r 72%|███████▏  | 825/1151 [03:42<01:23,  3.89it/s]\r 72%|███████▏  | 826/1151 [03:42<01:27,  3.71it/s]\r 72%|███████▏  | 827/1151 [03:43<01:25,  3.79it/s]\r 72%|███████▏  | 828/1151 [03:43<01:28,  3.64it/s]\r 72%|███████▏  | 829/1151 [03:43<01:28,  3.63it/s]\r 72%|███████▏  | 830/1151 [03:43<01:31,  3.52it/s]\r 72%|███████▏  | 831/1151 [03:44<01:38,  3.25it/s]\r 72%|███████▏  | 832/1151 [03:44<01:34,  3.36it/s]\r 72%|███████▏  | 833/1151 [03:44<01:29,  3.57it/s]\r 72%|███████▏  | 834/1151 [03:45<01:25,  3.70it/s]\r 73%|███████▎  | 835/1151 [03:45<01:30,  3.51it/s]\r 73%|███████▎  | 836/1151 [03:45<01:29,  3.53it/s]\r 73%|███████▎  | 837/1151 [03:45<01:31,  3.44it/s]\r 73%|███████▎  | 838/1151 [03:46<01:34,  3.30it/s]\r 73%|███████▎  | 839/1151 [03:46<01:32,  3.39it/s]\r 73%|███████▎  | 840/1151 [03:46<01:31,  3.38it/s]\r 73%|███████▎  | 841/1151 [03:47<01:29,  3.47it/s]\r 73%|███████▎  | 842/1151 [03:47<01:30,  3.42it/s]\r 73%|███████▎  | 843/1151 [03:47<01:33,  3.28it/s]\r 73%|███████▎  | 844/1151 [03:48<01:38,  3.13it/s]\r 73%|███████▎  | 845/1151 [03:48<01:30,  3.36it/s]\r 74%|███████▎  | 846/1151 [03:48<01:26,  3.51it/s]\r 74%|███████▎  | 847/1151 [03:48<01:23,  3.65it/s]\r 74%|███████▎  | 848/1151 [03:49<01:29,  3.39it/s]\r 74%|███████▍  | 849/1151 [03:49<01:26,  3.50it/s]\r 74%|███████▍  | 850/1151 [03:49<01:22,  3.65it/s]\r 74%|███████▍  | 851/1151 [03:49<01:17,  3.86it/s]\r 74%|███████▍  | 852/1151 [03:50<01:16,  3.89it/s]\r 74%|███████▍  | 853/1151 [03:50<01:20,  3.72it/s]\r 74%|███████▍  | 854/1151 [03:50<01:15,  3.93it/s]\r 74%|███████▍  | 855/1151 [03:50<01:12,  4.06it/s]\r 74%|███████▍  | 856/1151 [03:51<01:19,  3.72it/s]\r 74%|███████▍  | 857/1151 [03:51<01:21,  3.61it/s]\r 75%|███████▍  | 858/1151 [03:51<01:27,  3.35it/s]\r 75%|███████▍  | 859/1151 [03:52<01:23,  3.51it/s]\r 75%|███████▍  | 860/1151 [03:52<01:27,  3.34it/s]\r 75%|███████▍  | 861/1151 [03:52<01:28,  3.28it/s]\r 75%|███████▍  | 862/1151 [03:53<01:30,  3.19it/s]\r 75%|███████▍  | 863/1151 [03:53<01:24,  3.39it/s]\r 75%|███████▌  | 864/1151 [03:53<01:20,  3.56it/s]\r 75%|███████▌  | 865/1151 [03:53<01:20,  3.57it/s]\r 75%|███████▌  | 866/1151 [03:54<01:19,  3.59it/s]\r 75%|███████▌  | 867/1151 [03:54<01:19,  3.58it/s]\r 75%|███████▌  | 868/1151 [03:54<01:20,  3.50it/s]\r 75%|███████▌  | 869/1151 [03:55<01:26,  3.26it/s]\r 76%|███████▌  | 870/1151 [03:55<01:30,  3.12it/s]\r 76%|███████▌  | 871/1151 [03:55<01:33,  3.00it/s]\r 76%|███████▌  | 872/1151 [03:56<01:29,  3.13it/s]\r 76%|███████▌  | 873/1151 [03:56<01:26,  3.20it/s]\r 76%|███████▌  | 874/1151 [03:56<01:26,  3.21it/s]\r 76%|███████▌  | 875/1151 [03:57<01:23,  3.32it/s]\r 76%|███████▌  | 876/1151 [03:57<01:16,  3.58it/s]\r 76%|███████▌  | 877/1151 [03:57<01:16,  3.58it/s]\r 76%|███████▋  | 878/1151 [03:57<01:16,  3.55it/s]\r 76%|███████▋  | 879/1151 [03:58<01:17,  3.53it/s]\r 76%|███████▋  | 880/1151 [03:58<01:15,  3.57it/s]\r 77%|███████▋  | 881/1151 [03:58<01:13,  3.69it/s]\r 77%|███████▋  | 882/1151 [03:58<01:15,  3.56it/s]\r 77%|███████▋  | 883/1151 [03:59<01:18,  3.40it/s]\r 77%|███████▋  | 884/1151 [03:59<01:18,  3.39it/s]\r 77%|███████▋  | 885/1151 [03:59<01:16,  3.46it/s]\r 77%|███████▋  | 886/1151 [04:00<01:16,  3.48it/s]\r 77%|███████▋  | 887/1151 [04:00<01:11,  3.70it/s]\r 77%|███████▋  | 888/1151 [04:00<01:09,  3.77it/s]\r 77%|███████▋  | 889/1151 [04:00<01:15,  3.48it/s]\r 77%|███████▋  | 890/1151 [04:01<01:19,  3.28it/s]\r 77%|███████▋  | 891/1151 [04:01<01:21,  3.20it/s]\r 77%|███████▋  | 892/1151 [04:01<01:21,  3.17it/s]\r 78%|███████▊  | 893/1151 [04:02<01:20,  3.22it/s]\r 78%|███████▊  | 894/1151 [04:02<01:21,  3.17it/s]\r 78%|███████▊  | 895/1151 [04:02<01:20,  3.19it/s]\r 78%|███████▊  | 896/1151 [04:03<01:19,  3.22it/s]\r 78%|███████▊  | 897/1151 [04:03<01:18,  3.23it/s]\r 78%|███████▊  | 898/1151 [04:03<01:17,  3.27it/s]\r 78%|███████▊  | 899/1151 [04:04<01:15,  3.34it/s]\r 78%|███████▊  | 900/1151 [04:04<01:11,  3.52it/s]\r 78%|███████▊  | 901/1151 [04:04<01:07,  3.72it/s]\r 78%|███████▊  | 902/1151 [04:04<01:10,  3.55it/s]\r 78%|███████▊  | 903/1151 [04:05<01:15,  3.30it/s]\r 79%|███████▊  | 904/1151 [04:05<01:13,  3.38it/s]\r 79%|███████▊  | 905/1151 [04:05<01:10,  3.51it/s]\r 79%|███████▊  | 906/1151 [04:06<01:09,  3.54it/s]\r 79%|███████▉  | 907/1151 [04:06<01:10,  3.46it/s]\r 79%|███████▉  | 908/1151 [04:06<01:06,  3.65it/s]\r 79%|███████▉  | 909/1151 [04:06<01:08,  3.51it/s]\r 79%|███████▉  | 910/1151 [04:07<01:13,  3.28it/s]\r 79%|███████▉  | 911/1151 [04:07<01:12,  3.30it/s]\r 79%|███████▉  | 912/1151 [04:07<01:10,  3.40it/s]\r 79%|███████▉  | 913/1151 [04:08<01:13,  3.23it/s]\r 79%|███████▉  | 914/1151 [04:08<01:16,  3.11it/s]\r 79%|███████▉  | 915/1151 [04:08<01:13,  3.21it/s]\r 80%|███████▉  | 916/1151 [04:09<01:10,  3.31it/s]\r 80%|███████▉  | 917/1151 [04:09<01:10,  3.34it/s]\r 80%|███████▉  | 918/1151 [04:09<01:06,  3.49it/s]\r 80%|███████▉  | 919/1151 [04:09<01:06,  3.51it/s]\r 80%|███████▉  | 920/1151 [04:10<01:03,  3.64it/s]\r 80%|████████  | 921/1151 [04:10<01:01,  3.72it/s]\r 80%|████████  | 922/1151 [04:10<01:02,  3.64it/s]\r 80%|████████  | 923/1151 [04:10<01:00,  3.74it/s]\r 80%|████████  | 924/1151 [04:11<01:01,  3.69it/s]\r 80%|████████  | 925/1151 [04:11<01:01,  3.70it/s]\r 80%|████████  | 926/1151 [04:11<01:02,  3.58it/s]\r 81%|████████  | 927/1151 [04:12<01:04,  3.48it/s]\r 81%|████████  | 928/1151 [04:12<01:03,  3.52it/s]\r 81%|████████  | 929/1151 [04:12<01:03,  3.48it/s]\r 81%|████████  | 930/1151 [04:12<01:02,  3.54it/s]\r 81%|████████  | 931/1151 [04:13<01:00,  3.66it/s]\r 81%|████████  | 932/1151 [04:13<00:59,  3.67it/s]\r 81%|████████  | 933/1151 [04:13<00:57,  3.79it/s]\r 81%|████████  | 934/1151 [04:14<00:57,  3.77it/s]\r 81%|████████  | 935/1151 [04:14<00:57,  3.73it/s]\r 81%|████████▏ | 936/1151 [04:14<00:59,  3.58it/s]\r 81%|████████▏ | 937/1151 [04:14<01:02,  3.43it/s]\r 81%|████████▏ | 938/1151 [04:15<00:56,  3.78it/s]\r 82%|████████▏ | 939/1151 [04:15<00:55,  3.83it/s]\r 82%|████████▏ | 940/1151 [04:15<00:54,  3.90it/s]\r 82%|████████▏ | 941/1151 [04:15<00:51,  4.04it/s]\r 82%|████████▏ | 942/1151 [04:16<00:49,  4.23it/s]\r 82%|████████▏ | 943/1151 [04:16<00:50,  4.14it/s]\r 82%|████████▏ | 944/1151 [04:16<00:49,  4.15it/s]\r 82%|████████▏ | 945/1151 [04:16<00:49,  4.13it/s]\r 82%|████████▏ | 946/1151 [04:17<00:49,  4.16it/s]\r 82%|████████▏ | 947/1151 [04:17<00:51,  4.00it/s]\r 82%|████████▏ | 948/1151 [04:17<00:53,  3.76it/s]\r 82%|████████▏ | 949/1151 [04:17<00:52,  3.82it/s]\r 83%|████████▎ | 950/1151 [04:18<00:51,  3.92it/s]\r 83%|████████▎ | 951/1151 [04:18<00:53,  3.72it/s]\r 83%|████████▎ | 952/1151 [04:18<00:53,  3.69it/s]\r 83%|████████▎ | 953/1151 [04:18<00:54,  3.63it/s]\r 83%|████████▎ | 954/1151 [04:19<00:55,  3.52it/s]\r 83%|████████▎ | 955/1151 [04:19<00:56,  3.45it/s]\r 83%|████████▎ | 956/1151 [04:19<00:55,  3.48it/s]\r 83%|████████▎ | 957/1151 [04:20<00:56,  3.41it/s]\r 83%|████████▎ | 958/1151 [04:20<00:53,  3.59it/s]\r 83%|████████▎ | 959/1151 [04:20<00:50,  3.81it/s]\r 83%|████████▎ | 960/1151 [04:20<00:49,  3.86it/s]\r 83%|████████▎ | 961/1151 [04:21<00:47,  3.98it/s]\r 84%|████████▎ | 962/1151 [04:21<00:47,  3.99it/s]\r 84%|████████▎ | 963/1151 [04:21<00:48,  3.88it/s]\r 84%|████████▍ | 964/1151 [04:21<00:48,  3.88it/s]\r 84%|████████▍ | 965/1151 [04:22<00:48,  3.83it/s]\r 84%|████████▍ | 966/1151 [04:22<00:46,  4.02it/s]\r 84%|████████▍ | 967/1151 [04:22<00:44,  4.17it/s]\r 84%|████████▍ | 968/1151 [04:22<00:45,  4.02it/s]\r 84%|████████▍ | 969/1151 [04:23<00:45,  4.00it/s]\r 84%|████████▍ | 970/1151 [04:23<00:47,  3.78it/s]\r 84%|████████▍ | 971/1151 [04:23<00:46,  3.84it/s]\r 84%|████████▍ | 972/1151 [04:23<00:45,  3.89it/s]\r 85%|████████▍ | 973/1151 [04:24<00:44,  4.02it/s]\r 85%|████████▍ | 974/1151 [04:24<00:42,  4.15it/s]\r 85%|████████▍ | 975/1151 [04:24<00:42,  4.13it/s]\r 85%|████████▍ | 976/1151 [04:24<00:41,  4.24it/s]\r 85%|████████▍ | 977/1151 [04:25<00:40,  4.26it/s]\r 85%|████████▍ | 978/1151 [04:25<00:41,  4.16it/s]\r 85%|████████▌ | 979/1151 [04:25<00:43,  3.94it/s]\r 85%|████████▌ | 980/1151 [04:25<00:46,  3.72it/s]\r 85%|████████▌ | 981/1151 [04:26<00:47,  3.56it/s]\r 85%|████████▌ | 982/1151 [04:26<00:46,  3.61it/s]\r 85%|████████▌ | 983/1151 [04:26<00:45,  3.72it/s]\r 85%|████████▌ | 984/1151 [04:27<00:47,  3.50it/s]\r 86%|████████▌ | 985/1151 [04:27<00:47,  3.51it/s]\r 86%|████████▌ | 986/1151 [04:27<00:47,  3.45it/s]\r 86%|████████▌ | 987/1151 [04:27<00:49,  3.32it/s]\r 86%|████████▌ | 988/1151 [04:28<00:47,  3.42it/s]\r 86%|████████▌ | 989/1151 [04:28<00:50,  3.23it/s]\r 86%|████████▌ | 990/1151 [04:28<00:48,  3.34it/s]\r 86%|████████▌ | 991/1151 [04:29<00:47,  3.36it/s]\r 86%|████████▌ | 992/1151 [04:29<00:47,  3.38it/s]\r 86%|████████▋ | 993/1151 [04:29<00:46,  3.43it/s]\r 86%|████████▋ | 994/1151 [04:29<00:43,  3.60it/s]\r 86%|████████▋ | 995/1151 [04:30<00:44,  3.52it/s]\r 87%|████████▋ | 996/1151 [04:30<00:43,  3.56it/s]\r 87%|████████▋ | 997/1151 [04:30<00:41,  3.71it/s]\r 87%|████████▋ | 998/1151 [04:31<00:41,  3.69it/s]\r 87%|████████▋ | 999/1151 [04:31<00:42,  3.58it/s]\r 87%|████████▋ | 1000/1151 [04:31<00:43,  3.51it/s]\r 87%|████████▋ | 1001/1151 [04:31<00:43,  3.45it/s]\r 87%|████████▋ | 1002/1151 [04:32<00:42,  3.50it/s]\r 87%|████████▋ | 1003/1151 [04:32<00:43,  3.44it/s]\r 87%|████████▋ | 1004/1151 [04:32<00:40,  3.62it/s]\r 87%|████████▋ | 1005/1151 [04:33<00:41,  3.53it/s]\r 87%|████████▋ | 1006/1151 [04:33<00:43,  3.32it/s]\r 87%|████████▋ | 1007/1151 [04:33<00:39,  3.60it/s]\r 88%|████████▊ | 1008/1151 [04:33<00:38,  3.72it/s]\r 88%|████████▊ | 1009/1151 [04:34<00:39,  3.60it/s]\r 88%|████████▊ | 1010/1151 [04:34<00:38,  3.64it/s]\r 88%|████████▊ | 1011/1151 [04:34<00:37,  3.75it/s]\r 88%|████████▊ | 1012/1151 [04:34<00:37,  3.74it/s]\r 88%|████████▊ | 1013/1151 [04:35<00:41,  3.35it/s]\r 88%|████████▊ | 1014/1151 [04:35<00:38,  3.52it/s]\r 88%|████████▊ | 1015/1151 [04:35<00:42,  3.20it/s]\r 88%|████████▊ | 1016/1151 [04:36<00:43,  3.09it/s]\r 88%|████████▊ | 1017/1151 [04:36<00:39,  3.41it/s]\r 88%|████████▊ | 1018/1151 [04:36<00:36,  3.61it/s]\r 89%|████████▊ | 1019/1151 [04:37<00:35,  3.71it/s]\r 89%|████████▊ | 1020/1151 [04:37<00:34,  3.80it/s]\r 89%|████████▊ | 1021/1151 [04:37<00:33,  3.90it/s]\r 89%|████████▉ | 1022/1151 [04:37<00:32,  3.96it/s]\r 89%|████████▉ | 1023/1151 [04:38<00:31,  4.10it/s]\r 89%|████████▉ | 1024/1151 [04:38<00:30,  4.19it/s]\r 89%|████████▉ | 1025/1151 [04:38<00:30,  4.17it/s]\r 89%|████████▉ | 1026/1151 [04:38<00:29,  4.31it/s]\r 89%|████████▉ | 1027/1151 [04:38<00:30,  4.09it/s]\r 89%|████████▉ | 1028/1151 [04:39<00:29,  4.23it/s]\r 89%|████████▉ | 1029/1151 [04:39<00:29,  4.19it/s]\r 89%|████████▉ | 1030/1151 [04:39<00:28,  4.28it/s]\r 90%|████████▉ | 1031/1151 [04:39<00:29,  4.09it/s]\r 90%|████████▉ | 1032/1151 [04:40<00:28,  4.21it/s]\r 90%|████████▉ | 1033/1151 [04:40<00:29,  4.03it/s]\r 90%|████████▉ | 1034/1151 [04:40<00:29,  3.93it/s]\r 90%|████████▉ | 1035/1151 [04:40<00:28,  4.07it/s]\r 90%|█████████ | 1036/1151 [04:41<00:27,  4.17it/s]\r 90%|█████████ | 1037/1151 [04:41<00:27,  4.22it/s]\r 90%|█████████ | 1038/1151 [04:41<00:28,  3.94it/s]\r 90%|█████████ | 1039/1151 [04:41<00:29,  3.86it/s]\r 90%|█████████ | 1040/1151 [04:42<00:27,  4.01it/s]\r 90%|█████████ | 1041/1151 [04:42<00:28,  3.87it/s]\r 91%|█████████ | 1042/1151 [04:42<00:27,  3.91it/s]\r 91%|█████████ | 1043/1151 [04:43<00:29,  3.62it/s]\r 91%|█████████ | 1044/1151 [04:43<00:28,  3.75it/s]\r 91%|█████████ | 1045/1151 [04:43<00:27,  3.83it/s]\r 91%|█████████ | 1046/1151 [04:43<00:27,  3.77it/s]\r 91%|█████████ | 1047/1151 [04:43<00:26,  3.95it/s]\r 91%|█████████ | 1048/1151 [04:44<00:25,  3.98it/s]\r 91%|█████████ | 1049/1151 [04:44<00:25,  4.00it/s]\r 91%|█████████ | 1050/1151 [04:44<00:26,  3.80it/s]\r 91%|█████████▏| 1051/1151 [04:45<00:26,  3.75it/s]\r 91%|█████████▏| 1052/1151 [04:45<00:26,  3.70it/s]\r 91%|█████████▏| 1053/1151 [04:45<00:27,  3.61it/s]\r 92%|█████████▏| 1054/1151 [04:45<00:25,  3.73it/s]\r 92%|█████████▏| 1055/1151 [04:46<00:25,  3.83it/s]\r 92%|█████████▏| 1056/1151 [04:46<00:24,  3.91it/s]\r 92%|█████████▏| 1057/1151 [04:46<00:24,  3.84it/s]\r 92%|█████████▏| 1058/1151 [04:46<00:24,  3.72it/s]\r 92%|█████████▏| 1059/1151 [04:47<00:23,  3.84it/s]\r 92%|█████████▏| 1060/1151 [04:47<00:22,  4.05it/s]\r 92%|█████████▏| 1061/1151 [04:47<00:22,  3.92it/s]\r 92%|█████████▏| 1062/1151 [04:47<00:22,  3.96it/s]\r 92%|█████████▏| 1063/1151 [04:48<00:22,  3.88it/s]\r 92%|█████████▏| 1064/1151 [04:48<00:22,  3.86it/s]\r 93%|█████████▎| 1065/1151 [04:48<00:21,  3.92it/s]\r 93%|█████████▎| 1066/1151 [04:49<00:23,  3.65it/s]\r 93%|█████████▎| 1067/1151 [04:49<00:22,  3.71it/s]\r 93%|█████████▎| 1068/1151 [04:49<00:22,  3.72it/s]\r 93%|█████████▎| 1069/1151 [04:49<00:22,  3.73it/s]\r 93%|█████████▎| 1070/1151 [04:50<00:21,  3.73it/s]\r 93%|█████████▎| 1071/1151 [04:50<00:22,  3.61it/s]\r 93%|█████████▎| 1072/1151 [04:50<00:21,  3.63it/s]\r 93%|█████████▎| 1073/1151 [04:50<00:21,  3.66it/s]\r 93%|█████████▎| 1074/1151 [04:51<00:20,  3.80it/s]\r 93%|█████████▎| 1075/1151 [04:51<00:19,  3.91it/s]\r 93%|█████████▎| 1076/1151 [04:51<00:18,  3.97it/s]\r 94%|█████████▎| 1077/1151 [04:51<00:19,  3.87it/s]\r 94%|█████████▎| 1078/1151 [04:52<00:18,  3.91it/s]\r 94%|█████████▎| 1079/1151 [04:52<00:17,  4.05it/s]\r 94%|█████████▍| 1080/1151 [04:52<00:17,  4.16it/s]\r 94%|█████████▍| 1081/1151 [04:52<00:16,  4.15it/s]\r 94%|█████████▍| 1082/1151 [04:53<00:17,  3.89it/s]\r 94%|█████████▍| 1083/1151 [04:53<00:18,  3.73it/s]\r 94%|█████████▍| 1084/1151 [04:53<00:17,  3.83it/s]\r 94%|█████████▍| 1085/1151 [04:53<00:17,  3.79it/s]\r 94%|█████████▍| 1086/1151 [04:54<00:18,  3.58it/s]\r 94%|█████████▍| 1087/1151 [04:54<00:17,  3.74it/s]\r 95%|█████████▍| 1088/1151 [04:54<00:15,  3.97it/s]\r 95%|█████████▍| 1089/1151 [04:54<00:14,  4.24it/s]\r 95%|█████████▍| 1090/1151 [04:55<00:14,  4.33it/s]\r 95%|█████████▍| 1091/1151 [04:55<00:13,  4.54it/s]\r 95%|█████████▍| 1092/1151 [04:55<00:13,  4.36it/s]\r 95%|█████████▍| 1093/1151 [04:55<00:13,  4.25it/s]\r 95%|█████████▌| 1094/1151 [04:56<00:13,  4.32it/s]\r 95%|█████████▌| 1095/1151 [04:56<00:14,  3.99it/s]\r 95%|█████████▌| 1096/1151 [04:56<00:13,  4.00it/s]\r 95%|█████████▌| 1097/1151 [04:56<00:14,  3.67it/s]\r 95%|█████████▌| 1098/1151 [04:57<00:13,  3.79it/s]\r 95%|█████████▌| 1099/1151 [04:57<00:13,  3.98it/s]\r 96%|█████████▌| 1100/1151 [04:57<00:13,  3.86it/s]\r 96%|█████████▌| 1101/1151 [04:57<00:12,  3.89it/s]\r 96%|█████████▌| 1102/1151 [04:58<00:12,  3.93it/s]\r 96%|█████████▌| 1103/1151 [04:58<00:12,  3.81it/s]\r 96%|█████████▌| 1104/1151 [04:58<00:11,  3.98it/s]\r 96%|█████████▌| 1105/1151 [04:58<00:11,  3.99it/s]\r 96%|█████████▌| 1106/1151 [04:59<00:11,  3.96it/s]\r 96%|█████████▌| 1107/1151 [04:59<00:11,  3.86it/s]\r 96%|█████████▋| 1108/1151 [04:59<00:10,  3.92it/s]\r 96%|█████████▋| 1109/1151 [04:59<00:10,  3.85it/s]\r 96%|█████████▋| 1110/1151 [05:00<00:11,  3.68it/s]\r 97%|█████████▋| 1111/1151 [05:00<00:10,  3.64it/s]\r 97%|█████████▋| 1112/1151 [05:00<00:10,  3.78it/s]\r 97%|█████████▋| 1113/1151 [05:01<00:09,  3.84it/s]\r 97%|█████████▋| 1114/1151 [05:01<00:09,  4.02it/s]\r 97%|█████████▋| 1115/1151 [05:01<00:08,  4.02it/s]\r 97%|█████████▋| 1116/1151 [05:01<00:08,  3.93it/s]\r 97%|█████████▋| 1117/1151 [05:02<00:09,  3.67it/s]\r 97%|█████████▋| 1118/1151 [05:02<00:08,  3.78it/s]\r 97%|█████████▋| 1119/1151 [05:02<00:08,  3.66it/s]\r 97%|█████████▋| 1120/1151 [05:02<00:08,  3.70it/s]\r 97%|█████████▋| 1121/1151 [05:03<00:08,  3.67it/s]\r 97%|█████████▋| 1122/1151 [05:03<00:07,  3.67it/s]\r 98%|█████████▊| 1123/1151 [05:03<00:07,  3.80it/s]\r 98%|█████████▊| 1124/1151 [05:03<00:06,  4.00it/s]\r 98%|█████████▊| 1125/1151 [05:04<00:06,  4.13it/s]\r 98%|█████████▊| 1126/1151 [05:04<00:05,  4.25it/s]\r 98%|█████████▊| 1127/1151 [05:04<00:05,  4.16it/s]\r 98%|█████████▊| 1128/1151 [05:04<00:05,  3.99it/s]\r 98%|█████████▊| 1129/1151 [05:05<00:05,  3.87it/s]\r 98%|█████████▊| 1130/1151 [05:05<00:05,  3.91it/s]\r 98%|█████████▊| 1131/1151 [05:05<00:05,  3.76it/s]\r 98%|█████████▊| 1132/1151 [05:05<00:04,  3.83it/s]\r 98%|█████████▊| 1133/1151 [05:06<00:04,  3.99it/s]\r 99%|█████████▊| 1134/1151 [05:06<00:04,  3.84it/s]\r 99%|█████████▊| 1135/1151 [05:06<00:04,  3.79it/s]\r 99%|█████████▊| 1136/1151 [05:06<00:03,  3.84it/s]\r 99%|█████████▉| 1137/1151 [05:07<00:03,  3.51it/s]\r 99%|█████████▉| 1138/1151 [05:07<00:03,  3.48it/s]\r 99%|█████████▉| 1139/1151 [05:07<00:03,  3.45it/s]\r 99%|█████████▉| 1140/1151 [05:08<00:03,  3.27it/s]\r 99%|█████████▉| 1141/1151 [05:08<00:03,  3.21it/s]\r 99%|█████████▉| 1142/1151 [05:08<00:02,  3.33it/s]\r 99%|█████████▉| 1143/1151 [05:09<00:02,  3.32it/s]\r 99%|█████████▉| 1144/1151 [05:09<00:02,  3.33it/s]\r 99%|█████████▉| 1145/1151 [05:09<00:01,  3.37it/s]\r100%|█████████▉| 1146/1151 [05:09<00:01,  3.65it/s]\r100%|█████████▉| 1147/1151 [05:10<00:01,  3.56it/s]\r100%|█████████▉| 1148/1151 [05:10<00:00,  3.70it/s]\r100%|█████████▉| 1149/1151 [05:10<00:00,  3.62it/s]\r100%|█████████▉| 1150/1151 [05:11<00:00,  3.55it/s]\r100%|██████████| 1151/1151 [05:11<00:00,  3.48it/s]\r100%|██████████| 1151/1151 [05:11<00:00,  3.70it/s]\n"
          ],
          "output_type": "stream"
        },
        {
          "data": {
            "application/vnd.jupyter.widget-view+json": {
              "version_major": 2,
              "version_minor": 0,
              "model_id": "b089b0ce29354c76bc1a35cd6eb2bb0f"
            }
          },
          "metadata": {
            "application/vnd.jupyter.widget-view+json": {
              "datalore": {
                "widget_id": "vblzjLMrD8zlkDmMX7ji0x"
              }
            }
          },
          "output_type": "display_data"
        }
      ],
      "metadata": {
        "datalore": {
          "node_id": "PI2XdYqWMMJJgYkhiMC5Xo",
          "type": "CODE",
          "hide_input_from_viewers": true,
          "hide_output_from_viewers": true
        },
        "colab": {
          "referenced_widgets": [
            "b089b0ce29354c76bc1a35cd6eb2bb0f"
          ]
        },
        "id": "0UtkP_A7V-9Q",
        "outputId": "6073bb2f-3e47-437c-e3eb-e98e846e43cc"
      }
    },
    {
      "cell_type": "code",
      "source": [
        "len(reranker_documents[0]['no_reranker'])"
      ],
      "execution_count": null,
      "outputs": [
        {
          "data": {
            "text/plain": [
              "30"
            ]
          },
          "metadata": {},
          "output_type": "display_data"
        }
      ],
      "metadata": {
        "datalore": {
          "node_id": "5F6VS1UfO5hiiqA76iJFtW",
          "type": "CODE",
          "hide_input_from_viewers": true,
          "hide_output_from_viewers": true
        },
        "id": "UL0EwoTNV-9Q",
        "outputId": "2094fb05-48f4-49a0-8377-51a64658e3f2"
      }
    },
    {
      "cell_type": "code",
      "source": [
        "####### Pour évaluer\n",
        "import json\n",
        "\n",
        "#with open('reranker_document_piaf.json', 'r') as file:\n",
        "#    reranker_documents = json.load(file)\n",
        "\n",
        "for item in reranker_documents:\n",
        "    # no_reranker est un obj dict, qui contient les élements document id, score et content.\n",
        "    # Car no reranker est un resultat de ES. Il faut nettoyer avant de faire l'étape suivante.\n",
        "    no_reranker = item['no_reranker']\n",
        "    no_reranker_cleaned = [res['content'] for res in no_reranker]\n",
        "    item['no_reranker'] = no_reranker_cleaned\n"
      ],
      "execution_count": null,
      "outputs": [],
      "metadata": {
        "datalore": {
          "node_id": "FPsSRA5UHUUNCMN9P1CJ2a",
          "type": "CODE",
          "hide_input_from_viewers": true,
          "hide_output_from_viewers": true
        },
        "id": "USfenGwnV-9Q"
      }
    },
    {
      "cell_type": "code",
      "source": [
        "def evaluate_algorithm(algorithm_key, k=10):\n",
        "    \"\"\"\n",
        "    Evaluate a ranking algorithm based on Precision@K and MRR.\n",
        "\n",
        "    Parameters\n",
        "    ----------\n",
        "    algorithm_key : str\n",
        "        The key corresponding to the ranking algorithm results.\n",
        "    k : int, optional\n",
        "        The number of top documents to consider for evaluation (default: 10).\n",
        "\n",
        "    Returns\n",
        "    -------\n",
        "    tuple\n",
        "        Precision@K and Mean Reciprocal Rank (MRR) scores.\n",
        "    \"\"\"\n",
        "    total_questions = len(reranker_documents)\n",
        "    hits_at_k = 0\n",
        "    sum_reciprocal_rank = 0\n",
        "\n",
        "    for entry in reranker_documents:\n",
        "        correct_context = entry[\"context\"]\n",
        "        predicted_contexts = entry[algorithm_key][:k]  # Top-k documents\n",
        "        #print('correct_context:',correct_context ,', predicted_contexts:',predicted_contexts)\n",
        "        # Check if the correct context is within the top-k predictions\n",
        "        if correct_context in predicted_contexts:\n",
        "            hits_at_k += 1\n",
        "            rank = predicted_contexts.index(correct_context) + 1\n",
        "            sum_reciprocal_rank += 1 / rank\n",
        "    #print(hits_at_k)\n",
        "    precision_at_k = hits_at_k / total_questions\n",
        "    mrr = sum_reciprocal_rank / total_questions\n",
        "    return precision_at_k, mrr"
      ],
      "execution_count": null,
      "outputs": [],
      "metadata": {
        "datalore": {
          "node_id": "IxRd5EKk9xYDR9iQkBCtyP",
          "type": "CODE",
          "hide_input_from_viewers": true,
          "hide_output_from_viewers": true
        },
        "id": "ZTqrt8GnV-9R"
      }
    },
    {
      "cell_type": "code",
      "source": [
        "top_k = 10\n",
        "precision_at_k_no_reranker, mrr_no_reranker = evaluate_algorithm('no_reranker', k=top_k)\n",
        "precision_at_k_cohere, mrr_cohere = evaluate_algorithm('cohere', k=top_k)\n",
        "precision_at_k_cross_encoder, mrr_cross_encoder = evaluate_algorithm('cross_encoder', k=top_k)\n",
        "precision_at_k_cross_encoder_ft_vbert, mrr_cross_encoder_ft_vbert = evaluate_algorithm('cross-encoder-ft-vbert', k=top_k)\n",
        "precision_at_k_cross_encoder_ft_v1, mrr_cross_encoder_ft_v1 = evaluate_algorithm('cross-encoder-ft-v1', k=top_k)\n",
        "precision_at_k_cross_encoder_ft_v2, mrr_cross_encoder_ft_v2 = evaluate_algorithm('cross-encoder-ft-v2', k=top_k)\n",
        "precision_at_k_cross_encoder_ft_v3, mrr_cross_encoder_ft_v3 = evaluate_algorithm('cross-encoder-ft-v3', k=top_k)"
      ],
      "execution_count": null,
      "outputs": [],
      "metadata": {
        "datalore": {
          "node_id": "hBwdwSlKAWyzip7kTHzgCL",
          "type": "CODE",
          "hide_input_from_viewers": true,
          "hide_output_from_viewers": true
        },
        "id": "03c5UTXmV-9R"
      }
    },
    {
      "cell_type": "code",
      "source": [
        "print('precision_at_k_no_reranker:', precision_at_k_no_reranker, ', mrr_no_reranker:', mrr_no_reranker)\n",
        "\n",
        "print('precision_at_k_cohere:', precision_at_k_cohere, ', mrr_cohere:', mrr_cohere)\n",
        "print('precision_at_k_cross_encoder:', precision_at_k_cross_encoder, ', mrr_cross_encoder:', mrr_cross_encoder)\n",
        "print('precision_at_k_cross_encoder_ft_vbert:', precision_at_k_cross_encoder_ft_vbert, ', mrr_cross_encoder_ft_vbert:', mrr_cross_encoder_ft_vbert)\n",
        "print('precision_at_k_cross_encoder_ft_v1:', precision_at_k_cross_encoder_ft_v1, ', mrr_cross_encoder_ft_vbert:', mrr_cross_encoder_ft_v1)\n",
        "print('precision_at_k_cross_encoder_ft_v2:', precision_at_k_cross_encoder_ft_v2, ', mrr_cross_encoder_ft_v2:', mrr_cross_encoder_ft_v2)\n",
        "print('precision_at_k_cross_encoder_ft_v3:', precision_at_k_cross_encoder_ft_v3, ', mrr_cross_encoder_ft_v3:', mrr_cross_encoder_ft_v3)"
      ],
      "execution_count": null,
      "outputs": [
        {
          "name": "stdout",
          "text": [
            "precision_at_k_no_reranker: 1.0 , mrr_no_reranker: 0.757142857142857\n",
            "precision_at_k_cohere: 1.0 , mrr_cohere: 0.95\n",
            "precision_at_k_cross_encoder: 0.7 , mrr_cross_encoder: 0.25720238095238096\n",
            "precision_at_k_cross_encoder_ft_vbert: 1.0 , mrr_cross_encoder_ft_vbert: 0.8488095238095237\n",
            "precision_at_k_cross_encoder_ft_v1: 0.55 , mrr_cross_encoder_ft_vbert: 0.17152777777777778\n",
            "precision_at_k_cross_encoder_ft_v2: 0.4 , mrr_cross_encoder_ft_v2: 0.12547619047619046\n",
            "precision_at_k_cross_encoder_ft_v3: 0.95 , mrr_cross_encoder_ft_v3: 0.6116666666666667\n"
          ],
          "output_type": "stream"
        }
      ],
      "metadata": {
        "datalore": {
          "node_id": "KdoemVNhJwcLBEEjnyA09y",
          "type": "CODE",
          "hide_input_from_viewers": true,
          "hide_output_from_viewers": true
        },
        "id": "GXY8D-AnV-9R",
        "outputId": "308cbe92-c404-4a63-9c45-9dabc8ddc869"
      }
    }
  ],
  "metadata": {
    "kernelspec": {
      "display_name": "Python",
      "language": "python",
      "name": "python"
    },
    "datalore": {
      "computation_mode": "JUPYTER",
      "package_manager": "pip",
      "base_environment": "default",
      "packages": [],
      "report_row_ids": [],
      "report_tabs": [],
      "version": 4
    },
    "colab": {
      "provenance": []
    }
  },
  "nbformat": 4,
  "nbformat_minor": 0
}